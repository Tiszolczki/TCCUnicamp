{
 "cells": [
  {
   "cell_type": "code",
   "execution_count": 1,
   "id": "854487f9",
   "metadata": {},
   "outputs": [
    {
     "name": "stderr",
     "output_type": "stream",
     "text": [
      "25/05/07 21:55:51 WARN Utils: Your hostname, lnb035652cps resolves to a loopback address: 127.0.1.1; using 192.168.1.172 instead (on interface wlp0s20f3)\n",
      "25/05/07 21:55:51 WARN Utils: Set SPARK_LOCAL_IP if you need to bind to another address\n",
      "Setting default log level to \"WARN\".\n",
      "To adjust logging level use sc.setLogLevel(newLevel). For SparkR, use setLogLevel(newLevel).\n",
      "25/05/07 21:55:52 WARN NativeCodeLoader: Unable to load native-hadoop library for your platform... using builtin-java classes where applicable\n",
      "25/05/07 21:55:52 WARN Utils: Service 'SparkUI' could not bind on port 4040. Attempting port 4041.\n",
      "25/05/07 21:55:52 WARN Utils: Service 'SparkUI' could not bind on port 4041. Attempting port 4042.\n",
      "25/05/07 21:55:54 WARN SparkSession: Using an existing Spark session; only runtime SQL configurations will take effect.\n",
      "25/05/07 21:55:54 WARN SparkSession: Using an existing Spark session; only runtime SQL configurations will take effect.\n"
     ]
    }
   ],
   "source": [
    "%run ../../../ingestion/ingestion.ipynb\n",
    "%run ../../../write/write.ipynb\n",
    "%run ../../../alerts/webhook.ipynb"
   ]
  },
  {
   "cell_type": "code",
   "execution_count": 2,
   "id": "51c8f0c1",
   "metadata": {},
   "outputs": [],
   "source": [
    "# Cria uma instância da classe WebhookTeams utilizando o arquivo de configuração localizado em ../../config/teams.json\n",
    "webhook = WebhookTeams(\"../../../config/teams.json\")"
   ]
  },
  {
   "cell_type": "code",
   "execution_count": 3,
   "id": "1395d11c",
   "metadata": {},
   "outputs": [
    {
     "name": "stderr",
     "output_type": "stream",
     "text": [
      "                                                                                \r"
     ]
    }
   ],
   "source": [
    "try:\n",
    "    # Cria um leitor de Parquet\n",
    "    reader = ParquetReader()\n",
    "    \n",
    "    # Executa a leitura do arquivo Parquet e retorna um DataFrame\n",
    "    df = client_code(reader, \"../../../layer/prata/economia/animais_cabecas/*.parquet\")\n",
    "except:\n",
    "    # Em caso de erro durante a leitura, envia uma notificação via Teams\n",
    "    webhook.send_teams_notification(\"Erro de leitura!\")\n",
    "    pass\n"
   ]
  },
  {
   "cell_type": "code",
   "execution_count": 5,
   "id": "a480a6d1",
   "metadata": {},
   "outputs": [],
   "source": [
    "from pyspark.sql.functions import sum, round\n",
    "\n",
    "# Calcula  a soma total de animais em cada região administrativa.\n",
    "# A média é arredondada para duas casas decimais.\n",
    "df_tratado = (\n",
    "    df.groupBy(\"Data\", \"reg_administrativa\")\n",
    "      .agg(round(sum(\"Animais_cabecas\"), 2).alias(\"soma_total_animais\"))\n",
    "      .orderBy(\"Data\", \"soma_total_animais\")\n",
    ")\n"
   ]
  },
  {
   "cell_type": "code",
   "execution_count": 6,
   "id": "04d6f55f",
   "metadata": {},
   "outputs": [
    {
     "name": "stdout",
     "output_type": "stream",
     "text": [
      "+----+--------------------+------------------+\n",
      "|Data|  reg_administrativa|soma_total_animais|\n",
      "+----+--------------------+------------------+\n",
      "|2013|        RA de Santos|            2391.0|\n",
      "|2013|      RA de Registro|          122769.0|\n",
      "|2013|RA de São José do...|         1720620.0|\n",
      "|2013|      RA de Barretos|         2131261.0|\n",
      "|2013|    RM  de São Paulo|         3219825.0|\n",
      "|2013|       RA de Itapeva|         4804060.0|\n",
      "|2013|     RA de Araçatuba|         6887342.0|\n",
      "|2013|         RA de Bauru|         8497107.0|\n",
      "|2013|        RA de Franca|         8535866.0|\n",
      "|2013|RA de Ribeirão Preto|         9245690.0|\n",
      "|2013|RA de Presidente ...|       1.0026687E7|\n",
      "|2013|          RA Central|        1.263734E7|\n",
      "|2013|RA de São José do...|       1.8948936E7|\n",
      "|2013|       RA de Marília|       5.5509489E7|\n",
      "|2013|      RA de Sorocaba|       5.6338204E7|\n",
      "|2013|      RA de Campinas|       8.7206145E7|\n",
      "|2014|        RA de Santos|           28388.0|\n",
      "|2014|      RA de Registro|          131008.0|\n",
      "|2014|RA de São José do...|         1720963.0|\n",
      "|2014|      RA de Barretos|         2285420.0|\n",
      "+----+--------------------+------------------+\n",
      "only showing top 20 rows\n",
      "\n"
     ]
    }
   ],
   "source": [
    "# Exibe as primeiras linhas do DataFrame tratado para visualização dos dados após as transformações\n",
    "df_tratado.show()"
   ]
  },
  {
   "cell_type": "code",
   "execution_count": 7,
   "id": "7b6469f8",
   "metadata": {},
   "outputs": [],
   "source": [
    "try:\n",
    "    # Cria uma instância da classe responsável por exportar em formato Parquet\n",
    "    exporter = ParquetExport()\n",
    "\n",
    "    # Exporta o DataFrame para o caminho local especificado\n",
    "    exporter.export(df, \"../../../layer/ouro/economia/cabecas_regiao/\", destination=\"local\")\n",
    "except:\n",
    "    # Em caso de erro durante a exportação, envia uma notificação via Teams\n",
    "    webhook.send_teams_notification(\"Erro de escrita!\")"
   ]
  }
 ],
 "metadata": {
  "kernelspec": {
   "display_name": ".venv",
   "language": "python",
   "name": "python3"
  },
  "language_info": {
   "codemirror_mode": {
    "name": "ipython",
    "version": 3
   },
   "file_extension": ".py",
   "mimetype": "text/x-python",
   "name": "python",
   "nbconvert_exporter": "python",
   "pygments_lexer": "ipython3",
   "version": "3.12.3"
  }
 },
 "nbformat": 4,
 "nbformat_minor": 5
}
