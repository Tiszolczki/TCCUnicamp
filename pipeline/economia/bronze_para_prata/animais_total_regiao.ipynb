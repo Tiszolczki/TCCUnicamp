{
 "cells": [
  {
   "cell_type": "code",
   "execution_count": 11,
   "id": "854487f9",
   "metadata": {},
   "outputs": [
    {
     "name": "stderr",
     "output_type": "stream",
     "text": [
      "25/05/07 22:20:07 WARN SparkSession: Using an existing Spark session; only runtime SQL configurations will take effect.\n",
      "25/05/07 22:20:07 WARN SparkSession: Using an existing Spark session; only runtime SQL configurations will take effect.\n"
     ]
    }
   ],
   "source": [
    "%run ../../../ingestion/ingestion.ipynb\n",
    "%run ../../../data\\ quality/quality.ipynb\n",
    "%run ../../../write/write.ipynb\n",
    "%run ../../../alerts/webhook.ipynb"
   ]
  },
  {
   "cell_type": "code",
   "execution_count": 12,
   "id": "93391773",
   "metadata": {},
   "outputs": [],
   "source": [
    "from pyspark.sql import functions as F"
   ]
  },
  {
   "cell_type": "code",
   "execution_count": 13,
   "id": "51c8f0c1",
   "metadata": {},
   "outputs": [],
   "source": [
    "# Cria uma instância da classe WebhookTeams utilizando o arquivo de configuração localizado em ../../config/teams.json\n",
    "webhook = WebhookTeams(\"../../../config/teams.json\")"
   ]
  },
  {
   "cell_type": "code",
   "execution_count": 14,
   "id": "1395d11c",
   "metadata": {},
   "outputs": [],
   "source": [
    "try:\n",
    "    # Cria um leitor de CSV com delimitador de linha definido como \";\"\n",
    "    reader = CSVReader(line_delimiter=\";\")\n",
    "    \n",
    "    # Executa a leitura do arquivo CSV e retorna um DataFrame\n",
    "    df = client_code(reader, \"../../../layer/bronze/economia/animais_cabecas.csv\")\n",
    "except:\n",
    "    # Em caso de erro durante a leitura, envia uma notificação via Teams\n",
    "    webhook.send_teams_notification(\"Erro de leitura!\")\n"
   ]
  },
  {
   "cell_type": "code",
   "execution_count": 15,
   "id": "04d6f55f",
   "metadata": {},
   "outputs": [
    {
     "name": "stdout",
     "output_type": "stream",
     "text": [
      "+-------------------+---------------+---------+----+\n",
      "|Codigo do municipio|Animais_cabecas|Cod_Gecon|Data|\n",
      "+-------------------+---------------+---------+----+\n",
      "|            3500105|          34998|      101|2019|\n",
      "|            3500204|           5987|      101|2019|\n",
      "|            3500303|           4085|      101|2019|\n",
      "|            3500402|          10200|      101|2019|\n",
      "|            3500501|           5401|      101|2019|\n",
      "|            3500550|          10021|      101|2019|\n",
      "|            3500709|          40000|      101|2019|\n",
      "|            3500758|           6538|      101|2019|\n",
      "|            3500808|          14000|      101|2019|\n",
      "|            3500907|          25734|      101|2019|\n",
      "|            3501004|          14900|      101|2019|\n",
      "|            3501103|          24775|      101|2019|\n",
      "|            3501152|            880|      101|2019|\n",
      "|            3501202|          42310|      101|2019|\n",
      "|            3501301|          45137|      101|2019|\n",
      "|            3501400|          13379|      101|2019|\n",
      "|            3501509|           5141|      101|2019|\n",
      "|            3501608|             60|      101|2019|\n",
      "|            3501707|            270|      101|2019|\n",
      "|            3501806|          21400|      101|2019|\n",
      "+-------------------+---------------+---------+----+\n",
      "only showing top 20 rows\n",
      "\n"
     ]
    }
   ],
   "source": [
    "df.show()"
   ]
  },
  {
   "cell_type": "code",
   "execution_count": 16,
   "id": "80dafc4f",
   "metadata": {},
   "outputs": [],
   "source": [
    "try:\n",
    "    # Cria um leitor de CSV com delimitador de linha definido como \",\"\n",
    "    reader = ParquetReader()\n",
    "    \n",
    "    # Executa a leitura do arquivo CSV e retorna um DataFrame\n",
    "    df_din = client_code(reader, \"../../../layer/prata/dimensao/dimensao_ibge/*.parquet\")\n",
    "    df_din = df_din.select(\"cod_ibge\", \"municipios\", \"reg_administrativa\")\n",
    "except:\n",
    "    # Em caso de erro durante a leitura, envia uma notificação via Teams\n",
    "    webhook.send_teams_notification(\"Erro de leitura!\")\n"
   ]
  },
  {
   "cell_type": "code",
   "execution_count": 17,
   "id": "ecb37052",
   "metadata": {},
   "outputs": [],
   "source": [
    "# Instancia a classe de utilitários de qualidade de dados com o DataFrame original\n",
    "dq = DataQualityUtils(df)\n",
    "\n",
    "# Encadeia as transformações de qualidade de dados no DataFrame\n",
    "df_tratado = (\n",
    "    dq.remove_espacos_em_colunas()  # Remove espaços extras dos nomes das colunas\n",
    "      .trim_strings()  # Remove espaços em branco no início e fim das strings de todas as colunas\n",
    "      #.remover_caracteres_especiais(['localidades'])  # (Comentado) Remove caracteres especiais da coluna 'localidades'\n",
    "      .remover_duplicatas()  # Remove registros duplicados do DataFrame\n",
    "      .preencher_nulos({  # Preenche valores nulos com zero nas colunas especificadas\n",
    "          'Animais_cabecas': 0\n",
    "      })\n",
    "      .converter_para_numerico(['Animais_cabecas'])\n",
    "      .get_df()  # Retorna o DataFrame tratado\n",
    ")\n"
   ]
  },
  {
   "cell_type": "code",
   "execution_count": 18,
   "id": "d4bd01c5",
   "metadata": {},
   "outputs": [
    {
     "name": "stdout",
     "output_type": "stream",
     "text": [
      "+--------+--------------------+--------------------+\n",
      "|cod_ibge|          municipios|  reg_administrativa|\n",
      "+--------+--------------------+--------------------+\n",
      "| 3512704|          Corumbataí|      RA de Campinas|\n",
      "| 3538204|         Pinhalzinho|      RA de Campinas|\n",
      "| 3549409|São Joaquim da Barra|        RA de Franca|\n",
      "| 3528205|           Macedônia|RA de São José do...|\n",
      "| 3501905|              Amparo|      RA de Campinas|\n",
      "| 3527702|           Luiziânia|     RA de Araçatuba|\n",
      "| 3550803|São Sebastião da ...|      RA de Campinas|\n",
      "| 3556008|              Urupês|RA de São José do...|\n",
      "| 3556453|Vargem Grande Pau...|    RM  de São Paulo|\n",
      "| 3525607|        João Ramalho|       RA de Marília|\n",
      "| 3537701|             Piacatu|     RA de Araçatuba|\n",
      "| 3555109|       Tupi Paulista|RA de Presidente ...|\n",
      "| 3520608|             Indiana|RA de Presidente ...|\n",
      "| 3522109|            Itanhaém|        RA de Santos|\n",
      "| 3524303|         Jaboticabal|RA de Ribeirão Preto|\n",
      "| 3526605|           Lavrinhas|RA de São José do...|\n",
      "| 3529658|           Mesópolis|RA de São José do...|\n",
      "| 3500808|   Alfredo Marcondes|RA de Presidente ...|\n",
      "| 3513603|               Cunha|RA de São José do...|\n",
      "| 3518404|       Guaratinguetá|RA de São José do...|\n",
      "+--------+--------------------+--------------------+\n",
      "only showing top 20 rows\n",
      "\n"
     ]
    }
   ],
   "source": [
    "df_din.show()"
   ]
  },
  {
   "cell_type": "code",
   "execution_count": 19,
   "id": "7150420f",
   "metadata": {},
   "outputs": [
    {
     "name": "stderr",
     "output_type": "stream",
     "text": [
      "[Stage 7:>                                                          (0 + 1) / 1]\r"
     ]
    },
    {
     "name": "stdout",
     "output_type": "stream",
     "text": [
      "+-------------------+---------------+---------+----+\n",
      "|Codigo_do_municipio|Animais_cabecas|Cod_Gecon|Data|\n",
      "+-------------------+---------------+---------+----+\n",
      "|            3516200|        21614.0|      101|2019|\n",
      "|            3505104|         9427.0|      101|2020|\n",
      "|            3540606|        22700.0|      101|2020|\n",
      "|            3545159|         6062.0|      101|2020|\n",
      "|            3556107|        13200.0|      101|2020|\n",
      "|            3534807|        18750.0|      101|2013|\n",
      "|            3512605|        17000.0|      101|2022|\n",
      "|            3527256|         9939.0|      101|2022|\n",
      "|            3530201|       132290.0|      101|2022|\n",
      "|            3532900|          646.0|      101|2022|\n",
      "|            3535705|         1300.0|      101|2022|\n",
      "|            3552007|        14220.0|      101|2018|\n",
      "|            3531704|        13494.0|      101|2017|\n",
      "|            3531803|        10400.0|      101|2017|\n",
      "|            3520707|        27001.0|      101|2021|\n",
      "|            3523701|        11600.0|      101|2021|\n",
      "|            3545407|         3700.0|      101|2021|\n",
      "|            3546801|         6580.0|      101|2021|\n",
      "|            3510708|        47000.0|      101|2016|\n",
      "|            3534500|        28435.0|      101|2016|\n",
      "+-------------------+---------------+---------+----+\n",
      "only showing top 20 rows\n",
      "\n"
     ]
    },
    {
     "name": "stderr",
     "output_type": "stream",
     "text": [
      "                                                                                \r"
     ]
    }
   ],
   "source": [
    "df_tratado.show()"
   ]
  },
  {
   "cell_type": "code",
   "execution_count": 20,
   "id": "6536d040",
   "metadata": {},
   "outputs": [],
   "source": [
    "# Faz o relacionamento com a dimensão de códigos do IBGE\n",
    "df_tratado = df_tratado.alias(\"tratado\").join(\n",
    "    df_din.alias(\"din\"),\n",
    "    F.col(\"tratado.Codigo_do_municipio\") == F.col(\"din.cod_ibge\"),\n",
    "    how=\"left\"\n",
    ")"
   ]
  },
  {
   "cell_type": "code",
   "execution_count": 21,
   "id": "79b7eb56",
   "metadata": {},
   "outputs": [
    {
     "name": "stdout",
     "output_type": "stream",
     "text": [
      "+-------------------+---------------+---------+----+--------+--------------------+--------------------+\n",
      "|Codigo_do_municipio|Animais_cabecas|Cod_Gecon|Data|cod_ibge|          municipios|  reg_administrativa|\n",
      "+-------------------+---------------+---------+----+--------+--------------------+--------------------+\n",
      "|            3516200|        21614.0|      101|2019| 3516200|              Franca|        RA de Franca|\n",
      "|            3505104|         9427.0|      101|2020| 3505104|             Barbosa|     RA de Araçatuba|\n",
      "|            3540606|        22700.0|      101|2020| 3540606|         Porto Feliz|      RA de Sorocaba|\n",
      "|            3545159|         6062.0|      101|2020| 3545159|            Saltinho|      RA de Campinas|\n",
      "|            3556107|        13200.0|      101|2020| 3556107|     Valentim Gentil|RA de São José do...|\n",
      "|            3534807|        18750.0|      101|2013| 3534807|          Ouro Verde|RA de Presidente ...|\n",
      "|            3512605|        17000.0|      101|2022| 3512605|      Coronel Macedo|       RA de Itapeva|\n",
      "|            3527256|         9939.0|      101|2022| 3527256|             Lourdes|     RA de Araçatuba|\n",
      "|            3530201|       132290.0|      101|2022| 3530201|Mirante do Parana...|RA de Presidente ...|\n",
      "|            3532900|          646.0|      101|2022| 3532900|         Nova Europa|          RA Central|\n",
      "|            3535705|         1300.0|      101|2022| 3535705|             Paraíso|RA de São José do...|\n",
      "|            3552007|        14220.0|      101|2018| 3552007|           Silveiras|RA de São José do...|\n",
      "|            3531704|        13494.0|      101|2017| 3531704|     Monteiro Lobato|RA de São José do...|\n",
      "|            3531803|        10400.0|      101|2017| 3531803|           Monte Mor|      RA de Campinas|\n",
      "|            3520707|        27001.0|      101|2021| 3520707|           Indiaporã|RA de São José do...|\n",
      "|            3523701|        11600.0|      101|2021| 3523701|            Itirapuã|        RA de Franca|\n",
      "|            3545407|         3700.0|      101|2021| 3545407|        Salto Grande|       RA de Marília|\n",
      "|            3546801|         6580.0|      101|2021| 3546801|        Santa Isabel|    RM  de São Paulo|\n",
      "|            3510708|        47000.0|      101|2016| 3510708|             Cardoso|RA de São José do...|\n",
      "|            3534500|        28435.0|      101|2016| 3534500|      Oscar Bressane|       RA de Marília|\n",
      "+-------------------+---------------+---------+----+--------+--------------------+--------------------+\n",
      "only showing top 20 rows\n",
      "\n"
     ]
    }
   ],
   "source": [
    "# Exibe as primeiras linhas do DataFrame tratado para visualização dos dados após as transformações\n",
    "df_tratado.show()"
   ]
  },
  {
   "cell_type": "code",
   "execution_count": 22,
   "id": "7b6469f8",
   "metadata": {},
   "outputs": [
    {
     "name": "stderr",
     "output_type": "stream",
     "text": [
      "                                                                                \r"
     ]
    }
   ],
   "source": [
    "try:\n",
    "    # Cria uma instância da classe responsável por exportar em formato Parquet\n",
    "    exporter = ParquetExport()\n",
    "\n",
    "    # Exporta o DataFrame para o caminho local especificado\n",
    "    exporter.export(df_tratado, \"../../../layer/prata/economia/animais_cabecas/\", destination=\"local\")\n",
    "except:\n",
    "    # Em caso de erro durante a exportação, envia uma notificação via Teams\n",
    "    webhook.send_teams_notification(\"Erro de escrita!\")\n"
   ]
  }
 ],
 "metadata": {
  "kernelspec": {
   "display_name": ".venv",
   "language": "python",
   "name": "python3"
  },
  "language_info": {
   "codemirror_mode": {
    "name": "ipython",
    "version": 3
   },
   "file_extension": ".py",
   "mimetype": "text/x-python",
   "name": "python",
   "nbconvert_exporter": "python",
   "pygments_lexer": "ipython3",
   "version": "3.12.3"
  }
 },
 "nbformat": 4,
 "nbformat_minor": 5
}
