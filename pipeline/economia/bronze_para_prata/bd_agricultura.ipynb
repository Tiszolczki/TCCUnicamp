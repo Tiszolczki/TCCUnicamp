{
 "cells": [
  {
   "cell_type": "code",
   "execution_count": 9,
   "id": "854487f9",
   "metadata": {},
   "outputs": [
    {
     "name": "stderr",
     "output_type": "stream",
     "text": [
      "25/05/07 22:01:26 WARN SparkSession: Using an existing Spark session; only runtime SQL configurations will take effect.\n",
      "25/05/07 22:01:26 WARN SparkSession: Using an existing Spark session; only runtime SQL configurations will take effect.\n"
     ]
    }
   ],
   "source": [
    "%run ../../../ingestion/ingestion.ipynb\n",
    "%run ../../../data\\ quality/quality.ipynb\n",
    "%run ../../../write/write.ipynb\n",
    "%run ../../../alerts/webhook.ipynb"
   ]
  },
  {
   "cell_type": "code",
   "execution_count": 10,
   "id": "93391773",
   "metadata": {},
   "outputs": [],
   "source": [
    "from pyspark.sql import functions as F"
   ]
  },
  {
   "cell_type": "code",
   "execution_count": 11,
   "id": "51c8f0c1",
   "metadata": {},
   "outputs": [],
   "source": [
    "# Cria uma instância da classe WebhookTeams utilizando o arquivo de configuração localizado em ../../config/teams.json\n",
    "webhook = WebhookTeams(\"../../../config/teams.json\")"
   ]
  },
  {
   "cell_type": "code",
   "execution_count": 12,
   "id": "1395d11c",
   "metadata": {},
   "outputs": [],
   "source": [
    "try:\n",
    "    # Cria um leitor de CSV com delimitador de linha definido como \",\"\n",
    "    reader = CSVReader(line_delimiter=\",\")\n",
    "    \n",
    "    # Executa a leitura do arquivo CSV e retorna um DataFrame\n",
    "    df = client_code(reader, \"../../../layer/bronze/economia/bd_agricultura.csv\")\n",
    "except:\n",
    "    # Em caso de erro durante a leitura, envia uma notificação via Teams\n",
    "    webhook.send_teams_notification(\"Erro de leitura!\")\n"
   ]
  },
  {
   "cell_type": "code",
   "execution_count": 13,
   "id": "04d6f55f",
   "metadata": {},
   "outputs": [
    {
     "name": "stdout",
     "output_type": "stream",
     "text": [
      "+----+----------------+------------------------+---------------------------+---------------------------+\n",
      "|Data|Codigo_municipio|area_colhida_em_hectares|quantidade_produzida_em_ton|valor_producao_em_mil_reais|\n",
      "+----+----------------+------------------------+---------------------------+---------------------------+\n",
      "|2013|         3500501|                     100|                        800|                        306|\n",
      "|2014|         3500501|                     100|                        570|                        227|\n",
      "|2015|         3500501|                     100|                        650|                        270|\n",
      "|2016|         3500501|                     100|                        696|                        464|\n",
      "|2021|         3500709|                     100|                        600|                        898|\n",
      "|2014|         3500808|                     100|                        345|                        111|\n",
      "|2022|         3501509|                     100|                        600|                        576|\n",
      "|2022|         3502606|                     100|                        360|                        432|\n",
      "|2023|         3502606|                     100|                        401|                        382|\n",
      "|2015|         3503356|                     100|                        380|                        171|\n",
      "|2020|         3503406|                     100|                        720|                        558|\n",
      "|2021|         3503406|                     100|                        620|                        928|\n",
      "|2022|         3503406|                     100|                        620|                        876|\n",
      "|2013|         3504404|                     100|                        480|                        160|\n",
      "|2020|         3504404|                     100|                        360|                        248|\n",
      "|2014|         3504800|                     100|                        350|                        182|\n",
      "|2015|         3504800|                     100|                        600|                        244|\n",
      "|2016|         3504800|                     100|                        600|                        272|\n",
      "|2018|         3504800|                     100|                        600|                        312|\n",
      "|2019|         3504800|                     100|                        210|                        118|\n",
      "+----+----------------+------------------------+---------------------------+---------------------------+\n",
      "only showing top 20 rows\n",
      "\n"
     ]
    }
   ],
   "source": [
    "df.show()"
   ]
  },
  {
   "cell_type": "code",
   "execution_count": null,
   "id": "80dafc4f",
   "metadata": {},
   "outputs": [],
   "source": [
    "try:\n",
    "    # Cria um leitor de CSV com delimitador de linha definido como \",\"\n",
    "    reader = ParquetReader()\n",
    "    \n",
    "    # Executa a leitura do arquivo CSV e retorna um DataFrame\n",
    "    df_din = client_code(reader, \"../../../layer/prata/dimensao/dimensao_ibge/*.parquet\")\n",
    "    df_din = df_din.select(\"cod_ibge\", \"municipios\", \"reg_administrativa\")\n",
    "except:\n",
    "    # Em caso de erro durante a leitura, envia uma notificação via Teams\n",
    "    webhook.send_teams_notification(\"Erro de leitura!\")\n"
   ]
  },
  {
   "cell_type": "code",
   "execution_count": 15,
   "id": "ecb37052",
   "metadata": {},
   "outputs": [],
   "source": [
    "# Instancia a classe de utilitários de qualidade de dados com o DataFrame original\n",
    "dq = DataQualityUtils(df)\n",
    "\n",
    "# Encadeia as transformações de qualidade de dados no DataFrame\n",
    "df_tratado = (\n",
    "    dq.remove_espacos_em_colunas()  # Remove espaços extras dos nomes das colunas\n",
    "      .trim_strings()  # Remove espaços em branco no início e fim das strings de todas as colunas\n",
    "      #.remover_caracteres_especiais(['localidades'])  # (Comentado) Remove caracteres especiais da coluna 'localidades'\n",
    "      .remover_duplicatas()  # Remove registros duplicados do DataFrame\n",
    "      .preencher_nulos({  # Preenche valores nulos com zero nas colunas especificadas\n",
    "          'area_colhida_em_hectares': 0,\n",
    "          'quantidade_produzida_em_ton': 0,\n",
    "          'valor_producao_em_mil_reais': 0\n",
    "      })\n",
    "      .converter_para_numerico(['area_colhida_em_hectares', 'quantidade_produzida_em_ton',\n",
    "                                'valor_producao_em_mil_reais'])\n",
    "      .get_df()  # Retorna o DataFrame tratado\n",
    ")\n"
   ]
  },
  {
   "cell_type": "code",
   "execution_count": 16,
   "id": "d4bd01c5",
   "metadata": {},
   "outputs": [
    {
     "name": "stdout",
     "output_type": "stream",
     "text": [
      "+--------+--------------------+--------------------+\n",
      "|cod_ibge|          municipios|  reg_administrativa|\n",
      "+--------+--------------------+--------------------+\n",
      "| 3500000|Estado sem especi...|Estado sem especi...|\n",
      "| 3500105|          Adamantina|RA de Presidente ...|\n",
      "| 3500204|              Adolfo|RA de São José do...|\n",
      "| 3500303|               Aguaí|      RA de Campinas|\n",
      "| 3500402|      Águas da Prata|      RA de Campinas|\n",
      "| 3500501|    Águas de Lindóia|      RA de Campinas|\n",
      "| 3500550|Águas de Santa Bá...|      RA de Sorocaba|\n",
      "| 3500600|  Águas de São Pedro|      RA de Campinas|\n",
      "| 3500709|              Agudos|         RA de Bauru|\n",
      "| 3500758|            Alambari|      RA de Sorocaba|\n",
      "| 3500808|   Alfredo Marcondes|RA de Presidente ...|\n",
      "| 3500907|              Altair|      RA de Barretos|\n",
      "| 3501004|         Altinópolis|RA de Ribeirão Preto|\n",
      "| 3501103|         Alto Alegre|     RA de Araçatuba|\n",
      "| 3501152|            Alumínio|      RA de Sorocaba|\n",
      "| 3501202|    Álvares Florence|RA de São José do...|\n",
      "| 3501301|     Álvares Machado|RA de Presidente ...|\n",
      "| 3501400|  Álvaro de Carvalho|       RA de Marília|\n",
      "| 3501509|         Alvinlândia|       RA de Marília|\n",
      "| 3501608|           Americana|      RA de Campinas|\n",
      "+--------+--------------------+--------------------+\n",
      "only showing top 20 rows\n",
      "\n"
     ]
    }
   ],
   "source": [
    "df_din.show()"
   ]
  },
  {
   "cell_type": "code",
   "execution_count": 17,
   "id": "7150420f",
   "metadata": {},
   "outputs": [
    {
     "name": "stderr",
     "output_type": "stream",
     "text": [
      "[Stage 8:>                                                          (0 + 1) / 1]\r"
     ]
    },
    {
     "name": "stdout",
     "output_type": "stream",
     "text": [
      "+----+----------------+------------------------+---------------------------+---------------------------+\n",
      "|Data|Codigo_municipio|area_colhida_em_hectares|quantidade_produzida_em_ton|valor_producao_em_mil_reais|\n",
      "+----+----------------+------------------------+---------------------------+---------------------------+\n",
      "|2019|         3508207|                   200.0|                     1200.0|                      605.0|\n",
      "|2021|         3526001|                   200.0|                      840.0|                     1260.0|\n",
      "|2013|         3516002|                   500.0|                     1950.0|                      742.0|\n",
      "|2019|         3522000|                   500.0|                     2880.0|                     1715.0|\n",
      "|2021|         3542107|                    50.0|                      250.0|                      313.0|\n",
      "|2018|         3546900|                   400.0|                     1860.0|                     1042.0|\n",
      "|2015|         3547601|                   250.0|                     1050.0|                      515.0|\n",
      "|2020|         3502200|                  5500.0|                    36945.0|                    32426.0|\n",
      "|2020|         3510153|                  1054.0|                     3246.0|                     2483.0|\n",
      "|2020|         3519907|                 11220.0|                    50635.0|                    49753.0|\n",
      "|2021|         3500105|                   180.0|                      880.0|                     1320.0|\n",
      "|2022|         3525300|                   670.0|                     3816.0|                     5116.0|\n",
      "|2022|         3529203|                  3700.0|                    15700.0|                    23232.0|\n",
      "|2019|         3503208|                  1050.0|                     6220.0|                     3392.0|\n",
      "|2019|         3522406|                 45500.0|                   341932.0|                   218921.0|\n",
      "|2013|         3531308|                  1250.0|                     7500.0|                     2745.0|\n",
      "|2018|         3512209|                  3900.0|                    32200.0|                    18778.0|\n",
      "|2018|         3513306|                  8450.0|                    21815.0|                    11250.0|\n",
      "|2018|         3538105|                    60.0|                      288.0|                      181.0|\n",
      "|2016|         3521507|                  2250.0|                    14982.0|                    11813.0|\n",
      "+----+----------------+------------------------+---------------------------+---------------------------+\n",
      "only showing top 20 rows\n",
      "\n"
     ]
    },
    {
     "name": "stderr",
     "output_type": "stream",
     "text": [
      "                                                                                \r"
     ]
    }
   ],
   "source": [
    "df_tratado.show()"
   ]
  },
  {
   "cell_type": "code",
   "execution_count": 19,
   "id": "6536d040",
   "metadata": {},
   "outputs": [],
   "source": [
    "# Faz o relacionamento com a dimensão de códigos do IBGE\n",
    "df_tratado = df_tratado.alias(\"tratado\").join(\n",
    "    df_din.alias(\"din\"),\n",
    "    F.col(\"tratado.Codigo_municipio\") == F.col(\"din.cod_ibge\"),\n",
    "    how=\"left\"\n",
    ")"
   ]
  },
  {
   "cell_type": "code",
   "execution_count": 20,
   "id": "79b7eb56",
   "metadata": {},
   "outputs": [
    {
     "name": "stdout",
     "output_type": "stream",
     "text": [
      "+----+----------------+------------------------+---------------------------+---------------------------+--------+--------------------+--------------------+\n",
      "|Data|Codigo_municipio|area_colhida_em_hectares|quantidade_produzida_em_ton|valor_producao_em_mil_reais|cod_ibge|          municipios|  reg_administrativa|\n",
      "+----+----------------+------------------------+---------------------------+---------------------------+--------+--------------------+--------------------+\n",
      "|2019|         3508207|                   200.0|                     1200.0|                      605.0| 3508207|           Buritizal|        RA de Franca|\n",
      "|2021|         3526001|                   200.0|                      840.0|                     1260.0| 3526001|      Junqueirópolis|RA de Presidente ...|\n",
      "|2013|         3516002|                   500.0|                     1950.0|                      742.0| 3516002|    Flórida Paulista|RA de Presidente ...|\n",
      "|2019|         3522000|                   500.0|                     2880.0|                     1715.0| 3522000|               Itaju|         RA de Bauru|\n",
      "|2021|         3542107|                    50.0|                      250.0|                      313.0| 3542107|              Rafard|      RA de Campinas|\n",
      "|2018|         3546900|                   400.0|                     1860.0|                     1042.0| 3546900|         Santa Lucia|          RA Central|\n",
      "|2015|         3547601|                   250.0|                     1050.0|                      515.0| 3547601|Santa Rosa do Vit...|RA de Ribeirão Preto|\n",
      "|2020|         3502200|                  5500.0|                    36945.0|                    32426.0| 3502200|            Angatuba|       RA de Itapeva|\n",
      "|2020|         3510153|                  1054.0|                     3246.0|                     2483.0| 3510153|             Canitar|       RA de Marília|\n",
      "|2020|         3519907|                 11220.0|                    50635.0|                    49753.0| 3519907|                Iepê|RA de Presidente ...|\n",
      "|2021|         3500105|                   180.0|                      880.0|                     1320.0| 3500105|          Adamantina|RA de Presidente ...|\n",
      "|2022|         3525300|                   670.0|                     3816.0|                     5116.0| 3525300|                 Jaú|         RA de Bauru|\n",
      "|2022|         3529203|                  3700.0|                    15700.0|                    23232.0| 3529203|        Martinópolis|RA de Presidente ...|\n",
      "|2019|         3503208|                  1050.0|                     6220.0|                     3392.0| 3503208|          Araraquara|          RA Central|\n",
      "|2019|         3522406|                 45500.0|                   341932.0|                   218921.0| 3522406|             Itapeva|       RA de Itapeva|\n",
      "|2013|         3531308|                  1250.0|                     7500.0|                     2745.0| 3531308|          Monte Alto|RA de Ribeirão Preto|\n",
      "|2018|         3512209|                  3900.0|                    32200.0|                    18778.0| 3512209|             Conchal|      RA de Campinas|\n",
      "|2018|         3513306|                  8450.0|                    21815.0|                    11250.0| 3513306|            Cruzália|       RA de Marília|\n",
      "|2018|         3538105|                    60.0|                      288.0|                      181.0| 3538105|           Pindorama|RA de São José do...|\n",
      "|2016|         3521507|                  2250.0|                    14982.0|                    11813.0| 3521507|              Irapuã|RA de São José do...|\n",
      "+----+----------------+------------------------+---------------------------+---------------------------+--------+--------------------+--------------------+\n",
      "only showing top 20 rows\n",
      "\n"
     ]
    }
   ],
   "source": [
    "# Exibe as primeiras linhas do DataFrame tratado para visualização dos dados após as transformações\n",
    "df_tratado.show()"
   ]
  },
  {
   "cell_type": "code",
   "execution_count": null,
   "id": "7b6469f8",
   "metadata": {},
   "outputs": [
    {
     "name": "stderr",
     "output_type": "stream",
     "text": [
      "                                                                                \r"
     ]
    }
   ],
   "source": [
    "try:\n",
    "    # Cria uma instância da classe responsável por exportar em formato Parquet\n",
    "    exporter = ParquetExport()\n",
    "\n",
    "    # Exporta o DataFrame para o caminho local especificado\n",
    "    exporter.export(df_tratado, \"../../../layer/prata/economia/bd_agricultura/\", destination=\"local\")\n",
    "except:\n",
    "    # Em caso de erro durante a exportação, envia uma notificação via Teams\n",
    "    webhook.send_teams_notification(\"Erro de escrita!\")"
   ]
  }
 ],
 "metadata": {
  "kernelspec": {
   "display_name": ".venv",
   "language": "python",
   "name": "python3"
  },
  "language_info": {
   "codemirror_mode": {
    "name": "ipython",
    "version": 3
   },
   "file_extension": ".py",
   "mimetype": "text/x-python",
   "name": "python",
   "nbconvert_exporter": "python",
   "pygments_lexer": "ipython3",
   "version": "3.12.3"
  }
 },
 "nbformat": 4,
 "nbformat_minor": 5
}
