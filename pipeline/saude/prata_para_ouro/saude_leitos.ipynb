{
 "cells": [
  {
   "cell_type": "code",
   "execution_count": 1,
   "id": "854487f9",
   "metadata": {},
   "outputs": [
    {
     "name": "stderr",
     "output_type": "stream",
     "text": [
      "25/05/07 22:27:20 WARN Utils: Your hostname, lnb035652cps resolves to a loopback address: 127.0.1.1; using 192.168.1.172 instead (on interface wlp0s20f3)\n",
      "25/05/07 22:27:20 WARN Utils: Set SPARK_LOCAL_IP if you need to bind to another address\n",
      "Setting default log level to \"WARN\".\n",
      "To adjust logging level use sc.setLogLevel(newLevel). For SparkR, use setLogLevel(newLevel).\n",
      "25/05/07 22:27:20 WARN NativeCodeLoader: Unable to load native-hadoop library for your platform... using builtin-java classes where applicable\n",
      "25/05/07 22:27:21 WARN Utils: Service 'SparkUI' could not bind on port 4040. Attempting port 4041.\n",
      "25/05/07 22:27:21 WARN Utils: Service 'SparkUI' could not bind on port 4041. Attempting port 4042.\n",
      "25/05/07 22:27:22 WARN SparkSession: Using an existing Spark session; only runtime SQL configurations will take effect.\n",
      "25/05/07 22:27:22 WARN SparkSession: Using an existing Spark session; only runtime SQL configurations will take effect.\n"
     ]
    }
   ],
   "source": [
    "%run ../../../ingestion/ingestion.ipynb\n",
    "%run ../../../write/write.ipynb\n",
    "%run ../../../alerts/webhook.ipynb"
   ]
  },
  {
   "cell_type": "code",
   "execution_count": 2,
   "id": "51c8f0c1",
   "metadata": {},
   "outputs": [],
   "source": [
    "# Cria uma instância da classe WebhookTeams utilizando o arquivo de configuração localizado em ../../config/teams.json\n",
    "webhook = WebhookTeams(\"../../../config/teams.json\")"
   ]
  },
  {
   "cell_type": "code",
   "execution_count": null,
   "id": "1395d11c",
   "metadata": {},
   "outputs": [],
   "source": [
    "try:\n",
    "    # Cria um leitor de Parquet\n",
    "    reader = ParquetReader()\n",
    "    \n",
    "    # Executa a leitura do arquivo Parquet e retorna um DataFrame\n",
    "    df = client_code(reader, \"../../../layer/prata/saude/saude_leitos/*.parquet\")\n",
    "except:\n",
    "    # Em caso de erro durante a leitura, envia uma notificação via Teams\n",
    "    webhook.send_teams_notification(\"Erro de leitura!\")\n",
    "\n"
   ]
  },
  {
   "cell_type": "code",
   "execution_count": 4,
   "id": "a480a6d1",
   "metadata": {},
   "outputs": [],
   "source": [
    "from pyspark.sql.functions import avg, round\n",
    "\n",
    "# Calcula a média absoluta de leitos (leitos_total) para cada combinação de período e porte populacional.\n",
    "# Esse cálculo não leva em conta a população total de cada grupo, apenas a média dos valores de leitos.\n",
    "# A média é arredondada para duas casas decimais.\n",
    "df_tratado = (\n",
    "    df.groupBy(\"periodos\", \"porte_pop2020\")\n",
    "      .agg(round(avg(\"leitos_total\"), 2).alias(\"media_leitos\"))\n",
    "      .orderBy(\"periodos\", \"media_leitos\")\n",
    ")\n"
   ]
  },
  {
   "cell_type": "code",
   "execution_count": 5,
   "id": "04d6f55f",
   "metadata": {},
   "outputs": [
    {
     "name": "stdout",
     "output_type": "stream",
     "text": [
      "+--------+--------------------+------------+\n",
      "|periodos|       porte_pop2020|media_leitos|\n",
      "+--------+--------------------+------------+\n",
      "|    2010|           Até 5 mil|         0.9|\n",
      "|    2010|Mais de 5 mil até...|        7.67|\n",
      "|    2010|Mais de 10 mil at...|       27.48|\n",
      "|    2010|Mais de 20 mil at...|       78.43|\n",
      "|    2010|Mais de 50 mil at...|      167.98|\n",
      "|    2010|Mais de 100 mil a...|      301.87|\n",
      "|    2010|Mais de 200 mil a...|      558.56|\n",
      "|    2010|Mais de 500 mil a...|      1678.0|\n",
      "|    2010|    Mais de 1 milhão|    11426.67|\n",
      "|    2011|           Até 5 mil|        0.93|\n",
      "|    2011|Mais de 5 mil até...|        7.61|\n",
      "|    2011|Mais de 10 mil at...|       27.51|\n",
      "|    2011|Mais de 20 mil at...|       76.61|\n",
      "|    2011|Mais de 50 mil at...|      167.82|\n",
      "|    2011|Mais de 100 mil a...|       292.0|\n",
      "|    2011|Mais de 200 mil a...|      559.16|\n",
      "|    2011|Mais de 500 mil a...|     1666.33|\n",
      "|    2011|    Mais de 1 milhão|    11369.67|\n",
      "|    2012|           Até 5 mil|        0.93|\n",
      "|    2012|Mais de 5 mil até...|        7.43|\n",
      "+--------+--------------------+------------+\n",
      "only showing top 20 rows\n",
      "\n"
     ]
    }
   ],
   "source": [
    "# Exibe as primeiras linhas do DataFrame tratado para visualização dos dados após as transformações\n",
    "df_tratado.show()"
   ]
  },
  {
   "cell_type": "code",
   "execution_count": 6,
   "id": "7b6469f8",
   "metadata": {},
   "outputs": [],
   "source": [
    "try:\n",
    "    # Cria uma instância da classe responsável por exportar em formato Parquet\n",
    "    exporter = ParquetExport()\n",
    "\n",
    "    # Exporta o DataFrame para o caminho local especificado\n",
    "    exporter.export(df, \"../../../layer/ouro/saude/media_leitos_porte_populacional/\", destination=\"local\")\n",
    "except:\n",
    "    # Em caso de erro durante a exportação, envia uma notificação via Teams\n",
    "    webhook.send_teams_notification(\"Erro de escrita!\")"
   ]
  }
 ],
 "metadata": {
  "kernelspec": {
   "display_name": ".venv",
   "language": "python",
   "name": "python3"
  },
  "language_info": {
   "codemirror_mode": {
    "name": "ipython",
    "version": 3
   },
   "file_extension": ".py",
   "mimetype": "text/x-python",
   "name": "python",
   "nbconvert_exporter": "python",
   "pygments_lexer": "ipython3",
   "version": "3.12.3"
  }
 },
 "nbformat": 4,
 "nbformat_minor": 5
}
