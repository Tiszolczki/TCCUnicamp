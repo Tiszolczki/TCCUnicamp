{
 "cells": [
  {
   "cell_type": "code",
   "execution_count": 5,
   "id": "854487f9",
   "metadata": {},
   "outputs": [
    {
     "name": "stderr",
     "output_type": "stream",
     "text": [
      "25/05/07 21:42:05 WARN SparkSession: Using an existing Spark session; only runtime SQL configurations will take effect.\n",
      "25/05/07 21:42:05 WARN SparkSession: Using an existing Spark session; only runtime SQL configurations will take effect.\n"
     ]
    }
   ],
   "source": [
    "%run ../../../ingestion/ingestion.ipynb\n",
    "%run ../../../data\\ quality/quality.ipynb\n",
    "%run ../../../write/write.ipynb\n",
    "%run ../../../alerts/webhook.ipynb"
   ]
  },
  {
   "cell_type": "code",
   "execution_count": 6,
   "id": "51c8f0c1",
   "metadata": {},
   "outputs": [],
   "source": [
    "# Cria uma instância da classe WebhookTeams utilizando o arquivo de configuração localizado em ../../config/teams.json\n",
    "webhook = WebhookTeams(\"../../../config/teams.json\")"
   ]
  },
  {
   "cell_type": "code",
   "execution_count": 7,
   "id": "1395d11c",
   "metadata": {},
   "outputs": [],
   "source": [
    "try:\n",
    "    # Cria um leitor de CSV com delimitador de linha definido como \";\"\n",
    "    reader = CSVReader(line_delimiter=\";\")\n",
    "    \n",
    "    # Executa a leitura do arquivo CSV e retorna um DataFrame\n",
    "    df = client_code(reader, \"../../../layer/bronze/saude/snis_abastecimento_de_agua.csv\")\n",
    "except:\n",
    "    # Em caso de erro durante a leitura, envia uma notificação via Teams\n",
    "    webhook.send_teams_notification(\"Erro de leitura!\")\n"
   ]
  },
  {
   "cell_type": "code",
   "execution_count": 8,
   "id": "04d6f55f",
   "metadata": {},
   "outputs": [
    {
     "name": "stdout",
     "output_type": "stream",
     "text": [
      "+---------+--------------------+--------------------+--------------------+----+--------------------+--------------------+-----+-----+------+-----+\n",
      "|cod_ibge7|           municipio|               porte|                  ra| ano|             prest_a|            natjur_a|in023|in049| in051|in053|\n",
      "+---------+--------------------+--------------------+--------------------+----+--------------------+--------------------+-----+-----+------+-----+\n",
      "|  3500105|          Adamantina|Mais de 20 mil a ...|RA Presidente Pru...|2018|Companhia de Sane...|Sociedade de econ...|  100|23,77|132,27| 12,7|\n",
      "|  3500204|              Adolfo|           At� 5 mil|RA S�o Jos� do Ri...|2018|Companhia de Sane...|Sociedade de econ...|  100| 10,8| 47,76|11,86|\n",
      "|  3500402|      �guas da Prata|Mais de 5 mil a 1...|         RA Campinas|2018|Companhia de Sane...|Sociedade de econ...|  100|37,66|230,07|11,24|\n",
      "|  3500501|    �guas de Lind�ia|Mais de 10 mil a ...|         RA Campinas|2018|Saneamento Ambien...|           Autarquia|  100|42,16| 414,9|13,45|\n",
      "|  3500550|�guas de Santa B�...|Mais de 5 mil a 1...|         RA Sorocaba|2018|Companhia de Sane...|Sociedade de econ...|98,37| 39,3| 246,1| 11,4|\n",
      "|  3500600|  �guas de S�o Pedro|           At� 5 mil|         RA Campinas|2018|Companhia de Sane...|Sociedade de econ...|97,19|40,51|398,13|16,43|\n",
      "|  3500709|              Agudos|Mais de 20 mil a ...|            RA Bauru|2018|Companhia de Sane...|Sociedade de econ...|  100|28,72|196,43|14,45|\n",
      "|  3500758|            Alambari|Mais de 5 mil a 1...|         RA Sorocaba|2018|Companhia de Sane...|Sociedade de econ...|  100|36,08|220,48|11,72|\n",
      "|  3500808|   Alfredo Marcondes|           At� 5 mil|RA Presidente Pru...|2018|Companhia de Sane...|Sociedade de econ...|  100|11,37| 50,39|11,82|\n",
      "|  3500907|              Altair|           At� 5 mil|         RA Barretos|2018|Companhia de Sane...|Sociedade de econ...|  100| 9,29| 41,23|12,16|\n",
      "|  3501004|         Altin�polis|Mais de 10 mil a ...|   RA Ribeir�o Preto|2018|Prefeitura Munici...|Administra��o p�b...|  100| 38,6|336,65|16,29|\n",
      "|  3501103|         Alto Alegre|           At� 5 mil|        RA Ara�atuba|2018|Companhia de Sane...|Sociedade de econ...|  100|18,42| 84,18|11,22|\n",
      "|  3501152|            Alum�nio|Mais de 10 mil a ...|         RA Sorocaba|2018|Companhia de Sane...|Sociedade de econ...|84,78|35,97| 266,1| 13,5|\n",
      "|  3501202|    �lvares Florence|           At� 5 mil|RA S�o Jos� do Ri...|2018|Datema Ambiental ...|     Empresa privada|  100|10,13| 49,35| 13,3|\n",
      "|  3501301|     �lvares Machado|Mais de 20 mil a ...|RA Presidente Pru...|2018|Companhia de Sane...|Sociedade de econ...|  100|19,01|100,37|12,23|\n",
      "|  3501400|  �lvaro de Carvalho|           At� 5 mil|          RA Mar�lia|2018|Companhia de Sane...|Sociedade de econ...|   99|19,02| 86,73|11,23|\n",
      "|  3501509|         Alvinl�ndia|           At� 5 mil|          RA Mar�lia|2018|Companhia de Sane...|Sociedade de econ...|  100|23,84|119,29|11,32|\n",
      "|  3501608|           Americana|Mais de 100 mil a...|         RA Campinas|2018|Departamento de �...|           Autarquia|  100|48,81|468,35|11,15|\n",
      "|  3501707| Am�rico Brasiliense|Mais de 20 mil a ...|          RA Central|2018|Prefeitura Munici...|Administra��o p�b...|99,76| 8,22| 57,47|17,52|\n",
      "|  3501806|   Am�rico de Campos|Mais de 5 mil a 1...|RA S�o Jos� do Ri...|2018|Prefeitura Munici...|Administra��o p�b...|99,98| 4,98| 25,42|14,75|\n",
      "+---------+--------------------+--------------------+--------------------+----+--------------------+--------------------+-----+-----+------+-----+\n",
      "only showing top 20 rows\n",
      "\n"
     ]
    }
   ],
   "source": [
    "df.show()"
   ]
  },
  {
   "cell_type": "code",
   "execution_count": 9,
   "id": "7b6469f8",
   "metadata": {},
   "outputs": [
    {
     "name": "stderr",
     "output_type": "stream",
     "text": [
      "                                                                                \r"
     ]
    }
   ],
   "source": [
    "try:\n",
    "    # Cria uma instância da classe responsável por exportar em formato Parquet\n",
    "    exporter = ParquetExport()\n",
    "\n",
    "    # Exporta o DataFrame para o caminho local especificado\n",
    "    exporter.export(df, \"../../../layer/prata/saude/snis_abastecimento_de_agua/\", destination=\"local\")\n",
    "except:\n",
    "    # Em caso de erro durante a exportação, envia uma notificação via Teams\n",
    "    webhook.send_teams_notification(\"Erro de escrita!\")\n"
   ]
  }
 ],
 "metadata": {
  "kernelspec": {
   "display_name": ".venv",
   "language": "python",
   "name": "python3"
  },
  "language_info": {
   "codemirror_mode": {
    "name": "ipython",
    "version": 3
   },
   "file_extension": ".py",
   "mimetype": "text/x-python",
   "name": "python",
   "nbconvert_exporter": "python",
   "pygments_lexer": "ipython3",
   "version": "3.12.3"
  }
 },
 "nbformat": 4,
 "nbformat_minor": 5
}
