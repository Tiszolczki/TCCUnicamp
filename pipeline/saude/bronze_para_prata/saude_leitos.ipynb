{
 "cells": [
  {
   "cell_type": "code",
   "execution_count": 1,
   "id": "854487f9",
   "metadata": {},
   "outputs": [
    {
     "name": "stderr",
     "output_type": "stream",
     "text": [
      "25/05/06 23:47:36 WARN Utils: Your hostname, lnb035652cps resolves to a loopback address: 127.0.1.1; using 192.168.1.172 instead (on interface wlp0s20f3)\n",
      "25/05/06 23:47:36 WARN Utils: Set SPARK_LOCAL_IP if you need to bind to another address\n",
      "Setting default log level to \"WARN\".\n",
      "To adjust logging level use sc.setLogLevel(newLevel). For SparkR, use setLogLevel(newLevel).\n",
      "25/05/06 23:47:37 WARN NativeCodeLoader: Unable to load native-hadoop library for your platform... using builtin-java classes where applicable\n",
      "25/05/06 23:47:39 WARN SparkSession: Using an existing Spark session; only runtime SQL configurations will take effect.\n",
      "25/05/06 23:47:39 WARN SparkSession: Using an existing Spark session; only runtime SQL configurations will take effect.\n"
     ]
    }
   ],
   "source": [
    "%run ../../../ingestion/ingestion.ipynb\n",
    "%run ../../../data\\ quality/quality.ipynb\n",
    "%run ../../../write/write.ipynb\n",
    "%run ../../../alerts/webhook.ipynb"
   ]
  },
  {
   "cell_type": "code",
   "execution_count": 2,
   "id": "51c8f0c1",
   "metadata": {},
   "outputs": [],
   "source": [
    "# Cria uma instância da classe WebhookTeams utilizando o arquivo de configuração localizado em ../../config/teams.json\n",
    "webhook = WebhookTeams(\"../../../config/teams.json\")"
   ]
  },
  {
   "cell_type": "code",
   "execution_count": 3,
   "id": "1395d11c",
   "metadata": {},
   "outputs": [],
   "source": [
    "try:\n",
    "    # Cria um leitor de CSV com delimitador de linha definido como \",\"\n",
    "    reader = CSVReader(line_delimiter=\",\")\n",
    "    \n",
    "    # Executa a leitura do arquivo CSV e retorna um DataFrame\n",
    "    df = client_code(reader, \"../../../layer/bronze/saude/saude_leitos_mun_ano.csv\")\n",
    "except:\n",
    "    # Em caso de erro durante a leitura, envia uma notificação via Teams\n",
    "    webhook.send_teams_notification(\"Erro de leitura!\")\n"
   ]
  },
  {
   "cell_type": "code",
   "execution_count": 4,
   "id": "04d6f55f",
   "metadata": {},
   "outputs": [
    {
     "name": "stdout",
     "output_type": "stream",
     "text": [
      "+--------+--------+------------+----------+----------+--------------+--------------+-----------------+\n",
      "|cod_ibge|periodos|leitos_total|leitos_hab|leitos_sus|leitos_sus_hab|leitos_nao_sus|leitos_naosus_hab|\n",
      "+--------+--------+------------+----------+----------+--------------+--------------+-----------------+\n",
      "| 3500105|    2010|         308|       9,1|       271|             8|            37|              1,1|\n",
      "| 3500204|    2010|           0|         0|         0|             0|             0|                0|\n",
      "| 3500303|    2010|          76|       2,4|        49|           1,5|            27|              0,8|\n",
      "| 3500402|    2010|           0|         0|         0|             0|             0|                0|\n",
      "| 3500501|    2010|          42|       2,4|        30|           1,7|            12|              0,7|\n",
      "| 3500550|    2010|           0|         0|         0|             0|             0|                0|\n",
      "| 3500600|    2010|           0|         0|         0|             0|             0|                0|\n",
      "| 3500709|    2010|          65|       1,9|        43|           1,2|            22|              0,6|\n",
      "| 3500758|    2010|           0|         0|         0|             0|             0|                0|\n",
      "| 3500808|    2010|           0|         0|         0|             0|             0|                0|\n",
      "| 3500907|    2010|           0|         0|         0|             0|             0|                0|\n",
      "| 3501004|    2010|          30|       1,9|        21|           1,3|             9|              0,6|\n",
      "| 3501103|    2010|          22|       5,4|        19|           4,6|             3|              0,7|\n",
      "| 3501152|    2010|           0|         0|         0|             0|             0|                0|\n",
      "| 3501202|    2010|           0|         0|         0|             0|             0|                0|\n",
      "| 3501301|    2010|          20|       0,9|        18|           0,8|             2|              0,1|\n",
      "| 3501400|    2010|           0|         0|         0|             0|             0|                0|\n",
      "| 3501509|    2010|           0|         0|         0|             0|             0|                0|\n",
      "| 3501608|    2010|         619|       2,9|       388|           1,8|           231|              1,1|\n",
      "| 3501707|    2010|         240|         7|       240|             7|             0|                0|\n",
      "+--------+--------+------------+----------+----------+--------------+--------------+-----------------+\n",
      "only showing top 20 rows\n",
      "\n"
     ]
    }
   ],
   "source": [
    "df.show()"
   ]
  },
  {
   "cell_type": "code",
   "execution_count": null,
   "id": "80dafc4f",
   "metadata": {},
   "outputs": [],
   "source": [
    "try:\n",
    "    # Cria um leitor de CSV com delimitador de linha definido como \",\"\n",
    "    reader = ParquetReader()\n",
    "    \n",
    "    # Executa a leitura do arquivo CSV e retorna um DataFrame\n",
    "    df_din = client_code(reader, \"../../../layer/prata/dimensao/dimensao_ibge/*.parquet\")\n",
    "    df_din = df_din.select(\"cod_ibge\", \"municipios\", \"reg_administrativa\")\n",
    "except:\n",
    "    # Em caso de erro durante a leitura, envia uma notificação via Teams\n",
    "    webhook.send_teams_notification(\"Erro de leitura!\")\n"
   ]
  },
  {
   "cell_type": "code",
   "execution_count": 6,
   "id": "ecb37052",
   "metadata": {},
   "outputs": [],
   "source": [
    "# Instancia a classe de utilitários de qualidade de dados com o DataFrame original\n",
    "dq = DataQualityUtils(df)\n",
    "\n",
    "# Encadeia as transformações de qualidade de dados no DataFrame\n",
    "df_tratado = (\n",
    "    dq.remove_espacos_em_colunas()  # Remove espaços extras dos nomes das colunas\n",
    "      .trim_strings()  # Remove espaços em branco no início e fim das strings de todas as colunas\n",
    "      #.remover_caracteres_especiais(['localidades'])  # (Comentado) Remove caracteres especiais da coluna 'localidades'\n",
    "      .remover_duplicatas()  # Remove registros duplicados do DataFrame\n",
    "      .preencher_nulos({  # Preenche valores nulos com zero nas colunas especificadas\n",
    "          'leitos_total': 0,\n",
    "          'leitos_hab': 0,\n",
    "          'leitos_sus': 0,\n",
    "          'leitos_sus_hab': 0,\n",
    "          'leitos_nao_sus': 0,\n",
    "          'leitos_naosus_hab': 0\n",
    "      })\n",
    "      .converter_para_numerico(['leitos_total', 'leitos_hab',\n",
    "                                'leitos_sus', 'leitos_sus_hab',\n",
    "                                'leitos_nao_sus', 'leitos_naosus_hab'])\n",
    "      .get_df()  # Retorna o DataFrame tratado\n",
    ")\n"
   ]
  },
  {
   "cell_type": "code",
   "execution_count": 7,
   "id": "d4bd01c5",
   "metadata": {},
   "outputs": [
    {
     "name": "stdout",
     "output_type": "stream",
     "text": [
      "+--------+--------------------+--------------------+\n",
      "|cod_ibge|          municipios|       porte_pop2020|\n",
      "+--------+--------------------+--------------------+\n",
      "| 3500000|Estado sem especi...|Estado sem especi...|\n",
      "| 3500105|          Adamantina|Mais de 20 mil at...|\n",
      "| 3500204|              Adolfo|           Até 5 mil|\n",
      "| 3500303|               Aguaí|Mais de 20 mil at...|\n",
      "| 3500402|      Águas da Prata|Mais de 5 mil até...|\n",
      "| 3500501|    Águas de Lindóia|Mais de 10 mil at...|\n",
      "| 3500550|Águas de Santa Bá...|Mais de 5 mil até...|\n",
      "| 3500600|  Águas de São Pedro|           Até 5 mil|\n",
      "| 3500709|              Agudos|Mais de 20 mil at...|\n",
      "| 3500758|            Alambari|Mais de 5 mil até...|\n",
      "| 3500808|   Alfredo Marcondes|           Até 5 mil|\n",
      "| 3500907|              Altair|           Até 5 mil|\n",
      "| 3501004|         Altinópolis|Mais de 10 mil at...|\n",
      "| 3501103|         Alto Alegre|           Até 5 mil|\n",
      "| 3501152|            Alumínio|Mais de 10 mil at...|\n",
      "| 3501202|    Álvares Florence|           Até 5 mil|\n",
      "| 3501301|     Álvares Machado|Mais de 20 mil at...|\n",
      "| 3501400|  Álvaro de Carvalho|Mais de 5 mil até...|\n",
      "| 3501509|         Alvinlândia|           Até 5 mil|\n",
      "| 3501608|           Americana|Mais de 200 mil a...|\n",
      "+--------+--------------------+--------------------+\n",
      "only showing top 20 rows\n",
      "\n"
     ]
    }
   ],
   "source": [
    "df_din.show()"
   ]
  },
  {
   "cell_type": "code",
   "execution_count": 8,
   "id": "7150420f",
   "metadata": {},
   "outputs": [
    {
     "name": "stdout",
     "output_type": "stream",
     "text": [
      "+--------+--------+------------+----------+----------+--------------+--------------+-----------------+\n",
      "|cod_ibge|periodos|leitos_total|leitos_hab|leitos_sus|leitos_sus_hab|leitos_nao_sus|leitos_naosus_hab|\n",
      "+--------+--------+------------+----------+----------+--------------+--------------+-----------------+\n",
      "| 3509502|    2010|      2764.0|      NULL|    1407.0|          NULL|        1357.0|             NULL|\n",
      "| 3530102|    2011|       126.0|      NULL|      96.0|          NULL|          30.0|             NULL|\n",
      "| 3503406|    2012|        24.0|       3.0|      22.0|          NULL|           2.0|             NULL|\n",
      "| 3545506|    2012|         0.0|       0.0|       0.0|           0.0|           0.0|              0.0|\n",
      "| 3552908|    2012|         0.0|       0.0|       0.0|           0.0|           0.0|              0.0|\n",
      "| 3504404|    2013|         0.0|       0.0|       0.0|           0.0|           0.0|              0.0|\n",
      "| 3506102|    2013|       157.0|      NULL|     111.0|          NULL|          46.0|             NULL|\n",
      "| 3519907|    2013|        20.0|      NULL|      20.0|          NULL|           0.0|              0.0|\n",
      "| 3524808|    2013|       165.0|      NULL|      70.0|          NULL|          95.0|              2.0|\n",
      "| 3529005|    2013|       895.0|       4.0|     750.0|          NULL|         145.0|             NULL|\n",
      "| 3548054|    2013|         0.0|       0.0|       0.0|           0.0|           0.0|              0.0|\n",
      "| 3557006|    2013|       146.0|      NULL|      84.0|          NULL|          62.0|             NULL|\n",
      "| 3521903|    2014|        30.0|      NULL|      13.0|          NULL|          17.0|             NULL|\n",
      "| 3536505|    2014|        84.0|      NULL|      84.0|          NULL|           0.0|              0.0|\n",
      "| 3550605|    2014|       103.0|      NULL|      54.0|          NULL|          49.0|             NULL|\n",
      "| 3556602|    2014|         0.0|       0.0|       0.0|           0.0|           0.0|              0.0|\n",
      "| 3552700|    2015|        35.0|      NULL|      22.0|          NULL|          13.0|             NULL|\n",
      "| 3520400|    2016|        49.0|      NULL|      46.0|          NULL|           3.0|             NULL|\n",
      "| 3534302|    2016|        98.0|      NULL|      59.0|          NULL|          39.0|             NULL|\n",
      "| 3548203|    2016|         0.0|       0.0|       0.0|           0.0|           0.0|              0.0|\n",
      "+--------+--------+------------+----------+----------+--------------+--------------+-----------------+\n",
      "only showing top 20 rows\n",
      "\n"
     ]
    }
   ],
   "source": [
    "df_tratado.show()"
   ]
  },
  {
   "cell_type": "code",
   "execution_count": null,
   "id": "6536d040",
   "metadata": {},
   "outputs": [],
   "source": [
    "# Faz o relacionamento com a dimensão de códigos do IBGE\n",
    "df_tratado = df_tratado.join(df_din, on='cod_ibge', how='left')"
   ]
  },
  {
   "cell_type": "code",
   "execution_count": 10,
   "id": "79b7eb56",
   "metadata": {},
   "outputs": [
    {
     "name": "stdout",
     "output_type": "stream",
     "text": [
      "+--------+--------+------------+----------+----------+--------------+--------------+-----------------+--------------------+--------------------+\n",
      "|cod_ibge|periodos|leitos_total|leitos_hab|leitos_sus|leitos_sus_hab|leitos_nao_sus|leitos_naosus_hab|          municipios|       porte_pop2020|\n",
      "+--------+--------+------------+----------+----------+--------------+--------------+-----------------+--------------------+--------------------+\n",
      "| 3509502|    2010|      2764.0|      NULL|    1407.0|          NULL|        1357.0|             NULL|            Campinas|    Mais de 1 milhão|\n",
      "| 3530102|    2011|       126.0|      NULL|      96.0|          NULL|          30.0|             NULL|        Mirandópolis|Mais de 20 mil at...|\n",
      "| 3503406|    2012|        24.0|       3.0|      22.0|          NULL|           2.0|             NULL|             Arealva|Mais de 5 mil até...|\n",
      "| 3545506|    2012|         0.0|       0.0|       0.0|           0.0|           0.0|              0.0|         Sandovalina|           Até 5 mil|\n",
      "| 3552908|    2012|         0.0|       0.0|       0.0|           0.0|           0.0|              0.0|              Taciba|Mais de 5 mil até...|\n",
      "| 3504404|    2013|         0.0|       0.0|       0.0|           0.0|           0.0|              0.0|         Avanhandava|Mais de 10 mil at...|\n",
      "| 3506102|    2013|       157.0|      NULL|     111.0|          NULL|          46.0|             NULL|           Bebedouro|Mais de 50 mil at...|\n",
      "| 3519907|    2013|        20.0|      NULL|      20.0|          NULL|           0.0|              0.0|                Iepê|Mais de 5 mil até...|\n",
      "| 3524808|    2013|       165.0|      NULL|      70.0|          NULL|          95.0|              2.0|               Jales|Mais de 20 mil at...|\n",
      "| 3529005|    2013|       895.0|       4.0|     750.0|          NULL|         145.0|             NULL|             Marília|Mais de 200 mil a...|\n",
      "| 3548054|    2013|         0.0|       0.0|       0.0|           0.0|           0.0|              0.0|Santo Antonio do ...|Mais de 5 mil até...|\n",
      "| 3557006|    2013|       146.0|      NULL|      84.0|          NULL|          62.0|             NULL|          Votorantim|Mais de 100 mil a...|\n",
      "| 3521903|    2014|        30.0|      NULL|      13.0|          NULL|          17.0|             NULL|             Itajobi|Mais de 10 mil at...|\n",
      "| 3536505|    2014|        84.0|      NULL|      84.0|          NULL|           0.0|              0.0|            Paulínia|Mais de 100 mil a...|\n",
      "| 3550605|    2014|       103.0|      NULL|      54.0|          NULL|          49.0|             NULL|           São Roque|Mais de 50 mil at...|\n",
      "| 3556602|    2014|         0.0|       0.0|       0.0|           0.0|           0.0|              0.0|           Vera Cruz|Mais de 10 mil at...|\n",
      "| 3552700|    2015|        35.0|      NULL|      22.0|          NULL|          13.0|             NULL|           Tabatinga|Mais de 10 mil at...|\n",
      "| 3520400|    2016|        49.0|      NULL|      46.0|          NULL|           3.0|             NULL|            Ilhabela|Mais de 20 mil at...|\n",
      "| 3534302|    2016|        98.0|      NULL|      59.0|          NULL|          39.0|             NULL|            Orlândia|Mais de 20 mil at...|\n",
      "| 3548203|    2016|         0.0|       0.0|       0.0|           0.0|           0.0|              0.0|Santo Antonio do ...|Mais de 5 mil até...|\n",
      "+--------+--------+------------+----------+----------+--------------+--------------+-----------------+--------------------+--------------------+\n",
      "only showing top 20 rows\n",
      "\n"
     ]
    }
   ],
   "source": [
    "# Exibe as primeiras linhas do DataFrame tratado para visualização dos dados após as transformações\n",
    "df_tratado.show()"
   ]
  },
  {
   "cell_type": "code",
   "execution_count": 11,
   "id": "7b6469f8",
   "metadata": {},
   "outputs": [
    {
     "name": "stderr",
     "output_type": "stream",
     "text": [
      "                                                                                \r"
     ]
    }
   ],
   "source": [
    "try:\n",
    "    # Cria uma instância da classe responsável por exportar em formato Parquet\n",
    "    exporter = ParquetExport()\n",
    "\n",
    "    # Exporta o DataFrame para o caminho local especificado\n",
    "    exporter.export(df_tratado, \"../../../layer/prata/saude/saude_leitos/\", destination=\"local\")\n",
    "except:\n",
    "    # Em caso de erro durante a exportação, envia uma notificação via Teams\n",
    "    webhook.send_teams_notification(\"Erro de escrita!\")\n"
   ]
  }
 ],
 "metadata": {
  "kernelspec": {
   "display_name": ".venv",
   "language": "python",
   "name": "python3"
  },
  "language_info": {
   "codemirror_mode": {
    "name": "ipython",
    "version": 3
   },
   "file_extension": ".py",
   "mimetype": "text/x-python",
   "name": "python",
   "nbconvert_exporter": "python",
   "pygments_lexer": "ipython3",
   "version": "3.12.3"
  }
 },
 "nbformat": 4,
 "nbformat_minor": 5
}
