{
 "cells": [
  {
   "cell_type": "code",
   "execution_count": 33,
   "id": "854487f9",
   "metadata": {},
   "outputs": [
    {
     "name": "stderr",
     "output_type": "stream",
     "text": [
      "25/05/07 22:12:30 WARN SparkSession: Using an existing Spark session; only runtime SQL configurations will take effect.\n",
      "25/05/07 22:12:30 WARN SparkSession: Using an existing Spark session; only runtime SQL configurations will take effect.\n"
     ]
    }
   ],
   "source": [
    "%run ../../../ingestion/ingestion.ipynb\n",
    "%run ../../../data\\ quality/quality.ipynb\n",
    "%run ../../../write/write.ipynb\n",
    "%run ../../../alerts/webhook.ipynb"
   ]
  },
  {
   "cell_type": "code",
   "execution_count": 34,
   "id": "93391773",
   "metadata": {},
   "outputs": [],
   "source": [
    "from pyspark.sql import functions as F"
   ]
  },
  {
   "cell_type": "code",
   "execution_count": 35,
   "id": "51c8f0c1",
   "metadata": {},
   "outputs": [],
   "source": [
    "# Cria uma instância da classe WebhookTeams utilizando o arquivo de configuração localizado em ../../config/teams.json\n",
    "webhook = WebhookTeams(\"../../../config/teams.json\")"
   ]
  },
  {
   "cell_type": "code",
   "execution_count": 36,
   "id": "1395d11c",
   "metadata": {},
   "outputs": [],
   "source": [
    "try:\n",
    "    # Cria um leitor de CSV com delimitador de linha definido como \",\"\n",
    "    reader = CSVReader(line_delimiter=\",\")\n",
    "    \n",
    "    # Executa a leitura do arquivo CSV e retorna um DataFrame\n",
    "    df = client_code(reader, \"../../../layer/bronze/educacao/IDESP_ESCOLA.csv\")\n",
    "except:\n",
    "    # Em caso de erro durante a leitura, envia uma notificação via Teams\n",
    "    webhook.send_teams_notification(\"Erro de leitura!\")\n"
   ]
  },
  {
   "cell_type": "code",
   "execution_count": 37,
   "id": "04d6f55f",
   "metadata": {},
   "outputs": [
    {
     "name": "stdout",
     "output_type": "stream",
     "text": [
      "+----------+----------+-----------+---------------+-------------+--------------------+-------------+-------------+-----------+------------+\n",
      "|ANO_LETIVO|CODIGO_CIE|CODIGO_INEP|CodigoDiretoria|NomeDiretoria|          NomeEscola|NomeMunicipio|ANOS_INICIAIS|ANOS_FINAIS|ENSINO_MÉDIO|\n",
      "+----------+----------+-----------+---------------+-------------+--------------------+-------------+-------------+-----------+------------+\n",
      "|      2021|        12|   35000012|          10101|      NORTE 1|AYRES DE MOURA PR...|    SAO PAULO|         NULL|       3.55|        NULL|\n",
      "|      2021|        24|   35000024|          10101|      NORTE 1|GAVIAO PEIXOTO BR...|    SAO PAULO|         3.11|       2.79|        1.69|\n",
      "|      2021|        36|   35000036|          10101|      NORTE 1|        JOAO SOLIMEO|    SAO PAULO|         NULL|       2.79|        1.47|\n",
      "|      2021|       772|   35000772|          10104|      NORTE 2|VISCONDE DE INHAU...|    SAO PAULO|         5.87|       NULL|        NULL|\n",
      "|      2021|       784|   35000784|          10102|       CENTRO|ANESIA SINCORA PR...|    SAO PAULO|         2.97|       3.82|        NULL|\n",
      "|      2021|       796|   35000796|          10205|      LESTE 5|       HEROIS DA FEB|    SAO PAULO|         NULL|       2.49|        1.54|\n",
      "|      2021|       802|   35000802|          10205|      LESTE 5|IMPERATRIZ LEOPOL...|    SAO PAULO|         NULL|       4.15|         2.2|\n",
      "|      2021|       814|   35000814|          10104|      NORTE 2|RAQUEL ASSIS BARR...|    SAO PAULO|         NULL|       3.32|        2.24|\n",
      "|      2021|       838|   35000838|          10205|      LESTE 5|JOAO VIEIRA DE AL...|    SAO PAULO|         NULL|       2.79|        1.88|\n",
      "|      2021|       848|   35000848|          10102|       CENTRO|JOAQUIM LEME DO P...|    SAO PAULO|         NULL|       3.07|         2.3|\n",
      "|      2021|       851|   35000851|          10205|      LESTE 5|          JULIO MAIA|    SAO PAULO|          5.1|       NULL|        NULL|\n",
      "|      2021|       863|   35000863|          10104|      NORTE 2|JOSE MARCELINO DA...|    SAO PAULO|         7.12|       NULL|        NULL|\n",
      "|      2021|       875|   35000875|          10104|      NORTE 2|        CASTRO ALVES|    SAO PAULO|         NULL|       3.51|         1.9|\n",
      "|      2021|       899|   35000899|          10102|       CENTRO|PEDRO COSTA DEPUTADO|    SAO PAULO|         4.31|       NULL|        NULL|\n",
      "|      2021|       905|   35000905|          10104|      NORTE 2| CARLOS DE LAET PROF|    SAO PAULO|         NULL|       3.61|        2.05|\n",
      "|      2021|       917|   35000917|          10102|       CENTRO|ANTONIO LISBOA PR...|    SAO PAULO|         NULL|       3.74|        2.54|\n",
      "|      2021|       929|   35000929|          10102|       CENTRO|ANTONIO VIEIRA PADRE|    SAO PAULO|         NULL|       NULL|        2.94|\n",
      "|      2021|       930|   35000930|          10102|       CENTRO|HOMEM DE MELLO BARAO|    SAO PAULO|         NULL|       3.56|        2.14|\n",
      "|      2021|       942|   35000942|          10102|       CENTRO|        BUENOS AIRES|    SAO PAULO|         NULL|       NULL|        3.11|\n",
      "|      2021|       966|   35000966|          10102|       CENTRO|      GONCALVES DIAS|    SAO PAULO|         NULL|       3.22|        2.04|\n",
      "+----------+----------+-----------+---------------+-------------+--------------------+-------------+-------------+-----------+------------+\n",
      "only showing top 20 rows\n",
      "\n"
     ]
    }
   ],
   "source": [
    "df.show()"
   ]
  },
  {
   "cell_type": "code",
   "execution_count": 38,
   "id": "ecb37052",
   "metadata": {},
   "outputs": [],
   "source": [
    "# Instancia a classe de utilitários de qualidade de dados com o DataFrame original\n",
    "dq = DataQualityUtils(df)\n",
    "\n",
    "# Encadeia as transformações de qualidade de dados no DataFrame\n",
    "df_tratado = (\n",
    "    dq.remove_espacos_em_colunas()  # Remove espaços extras dos nomes das colunas\n",
    "      .trim_strings()  # Remove espaços em branco no início e fim das strings de todas as colunas\n",
    "      #.remover_caracteres_especiais(['localidades'])  # (Comentado) Remove caracteres especiais da coluna 'localidades'\n",
    "      .remover_duplicatas()  # Remove registros duplicados do DataFrame\n",
    "      .preencher_nulos({  # Preenche valores nulos com zero nas colunas especificadas\n",
    "          'ANOS_INICIAIS': 0,\n",
    "          'ANOS_FINAIS': 0,\n",
    "          'ENSINO_MÉDIO': 0\n",
    "      })\n",
    "      .converter_para_numerico(['ANOS_INICIAIS', 'ANOS_FINAIS',\n",
    "                                'ENSINO_MÉDIO'])\n",
    "      .get_df()  # Retorna o DataFrame tratado\n",
    ")\n"
   ]
  },
  {
   "cell_type": "code",
   "execution_count": 39,
   "id": "7150420f",
   "metadata": {},
   "outputs": [
    {
     "name": "stdout",
     "output_type": "stream",
     "text": [
      "+----------+----------+-----------+---------------+--------------------+--------------------+-------------------+-------------+-----------+------------+\n",
      "|ANO_LETIVO|CODIGO_CIE|CODIGO_INEP|CodigoDiretoria|       NomeDiretoria|          NomeEscola|      NomeMunicipio|ANOS_INICIAIS|ANOS_FINAIS|ENSINO_MÉDIO|\n",
      "+----------+----------+-----------+---------------+--------------------+--------------------+-------------------+-------------+-----------+------------+\n",
      "|      2021|      8424|   35008424|          10603|         SANTO ANDRE|NELSON PIZZOTTI M...|        SANTO ANDRE|         3.41|       2.08|        1.45|\n",
      "|      2021|     10546|   35010546|          10701|         CARAPICUIBA| JARDIM SANTA ANGELA|              COTIA|          3.1|       2.36|        1.17|\n",
      "|      2021|     18156|   35018156|          20404|      CAMPINAS OESTE|AUREA ANUNCIACAO ...|           CAMPINAS|         3.54|       2.91|        2.62|\n",
      "|      2021|     42523|   35042523|          20415|              SUMARE|LUIS HENRIQUE MAR...|             SUMARE|         4.39|        3.2|         2.3|\n",
      "|      2022|     70634|   35070634|          20601|               BAURU|SUELI APARECIDA S...|              BAURU|         3.85|       2.37|        1.77|\n",
      "|      2021|     23978|   35023978|          20507|      RIBEIRAO PRETO|ALBERTO JOSE GONC...|     RIBEIRAO PRETO|         4.54|       2.46|         1.6|\n",
      "|      2022|    921087|   35921087|          10502|              SUZANO|JACQUES YVES COUS...|             SUZANO|         2.98|        2.5|        0.82|\n",
      "|      2021|    903814|   35903814|          20409|          MOGI MIRIM|ARIOSTO RIBEIRO P...|             AMPARO|         2.88|       2.43|        2.31|\n",
      "|      2022|    297380|   35297380|          20909|MIRANTE DO PARANA...|ASSENTAMENTO SANT...|    TEODORO SAMPAIO|         7.33|       2.71|        1.91|\n",
      "|      2022|    909075|   35909075|          10208|             LESTE 4|WILFREDO PINHEIRO...|          SAO PAULO|         4.58|        2.9|        1.75|\n",
      "|      2021|    907376|   35907376|          20404|      CAMPINAS OESTE|ALVARO COTOMACCI ...|           CAMPINAS|         3.96|        2.8|        1.27|\n",
      "|      2021|    909051|   35909051|          10208|             LESTE 4|  LOURENCO ZANELATTI|          SAO PAULO|         4.43|       3.09|        1.47|\n",
      "|      2021|    919378|   35919378|          20415|              SUMARE|    RECREIO ALVORADA|        HORTOLANDIA|         3.72|        3.1|        1.67|\n",
      "|      2022|     10259|   35010259|          10706|     TABOAO DA SERRA|ANTONIO INACIO MA...|    TABOAO DA SERRA|         4.52|       3.48|        2.47|\n",
      "|      2021|     41993|   35041993|          10602|                MAUA|EDMUNDO LUIZ DE N...|RIO GRANDE DA SERRA|         3.29|       3.06|        1.28|\n",
      "|      2022|      1569|   35001569|          10316|          CENTRO SUL|        OSWALDO CRUZ|          SAO PAULO|         5.06|       3.77|         2.0|\n",
      "|      2022|     34150|   35034150|          21004|            OURINHOS|   ORLANDO QUAGLIATO|           OURINHOS|         3.06|       3.33|        1.11|\n",
      "|      2021|      4947|   35004947|          10317|               SUL 1|NEYDE APPARECIDA ...|          SAO PAULO|         3.27|       2.66|         1.8|\n",
      "|      2021|     39895|   35039895|          20404|      CAMPINAS OESTE|BENEDICTA DE SALL...|           CAMPINAS|         3.91|       2.94|        1.82|\n",
      "|      2022|      6919|   35006919|          10501|     MOGI DAS CRUZES|CAMILO FAUSTINO D...|    MOGI DAS CRUZES|         3.81|       2.95|        1.67|\n",
      "+----------+----------+-----------+---------------+--------------------+--------------------+-------------------+-------------+-----------+------------+\n",
      "only showing top 20 rows\n",
      "\n"
     ]
    }
   ],
   "source": [
    "df_tratado.show()"
   ]
  },
  {
   "cell_type": "code",
   "execution_count": 40,
   "id": "7b6469f8",
   "metadata": {},
   "outputs": [
    {
     "name": "stderr",
     "output_type": "stream",
     "text": [
      "                                                                                \r"
     ]
    }
   ],
   "source": [
    "try:\n",
    "    # Cria uma instância da classe responsável por exportar em formato Parquet\n",
    "    exporter = ParquetExport()\n",
    "\n",
    "    # Exporta o DataFrame para o caminho local especificado\n",
    "    exporter.export(df_tratado, \"../../../layer/prata/educacao/idesp_escola/\", destination=\"local\")\n",
    "except:\n",
    "    # Em caso de erro durante a exportação, envia uma notificação via Teams\n",
    "    webhook.send_teams_notification(\"Erro de escrita!\")"
   ]
  }
 ],
 "metadata": {
  "kernelspec": {
   "display_name": ".venv",
   "language": "python",
   "name": "python3"
  },
  "language_info": {
   "codemirror_mode": {
    "name": "ipython",
    "version": 3
   },
   "file_extension": ".py",
   "mimetype": "text/x-python",
   "name": "python",
   "nbconvert_exporter": "python",
   "pygments_lexer": "ipython3",
   "version": "3.12.3"
  }
 },
 "nbformat": 4,
 "nbformat_minor": 5
}
