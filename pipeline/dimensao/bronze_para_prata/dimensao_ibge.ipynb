{
 "cells": [
  {
   "cell_type": "code",
   "execution_count": 1,
   "id": "854487f9",
   "metadata": {},
   "outputs": [
    {
     "name": "stderr",
     "output_type": "stream",
     "text": [
      "25/05/07 22:15:19 WARN Utils: Your hostname, lnb035652cps resolves to a loopback address: 127.0.1.1; using 192.168.1.172 instead (on interface wlp0s20f3)\n",
      "25/05/07 22:15:19 WARN Utils: Set SPARK_LOCAL_IP if you need to bind to another address\n",
      "Setting default log level to \"WARN\".\n",
      "To adjust logging level use sc.setLogLevel(newLevel). For SparkR, use setLogLevel(newLevel).\n",
      "25/05/07 22:15:20 WARN NativeCodeLoader: Unable to load native-hadoop library for your platform... using builtin-java classes where applicable\n",
      "25/05/07 22:15:21 WARN SparkSession: Using an existing Spark session; only runtime SQL configurations will take effect.\n",
      "25/05/07 22:15:22 WARN SparkSession: Using an existing Spark session; only runtime SQL configurations will take effect.\n"
     ]
    }
   ],
   "source": [
    "%run ../../../ingestion/ingestion.ipynb\n",
    "%run ../../../data\\ quality/quality.ipynb\n",
    "%run ../../../write/write.ipynb\n",
    "%run ../../../alerts/webhook.ipynb"
   ]
  },
  {
   "cell_type": "code",
   "execution_count": 2,
   "id": "51c8f0c1",
   "metadata": {},
   "outputs": [],
   "source": [
    "# Cria uma instância da classe WebhookTeams utilizando o arquivo de configuração localizado em ../../config/teams.json\n",
    "webhook = WebhookTeams(\"../../../config/teams.json\")"
   ]
  },
  {
   "cell_type": "code",
   "execution_count": 3,
   "id": "1395d11c",
   "metadata": {},
   "outputs": [],
   "source": [
    "try:\n",
    "    # Cria um leitor de CSV com delimitador de linha definido como \",\"\n",
    "    reader = CSVReader(line_delimiter=\",\")\n",
    "    \n",
    "    # Executa a leitura do arquivo CSV e retorna um DataFrame\n",
    "    df = client_code(reader, \"../../../layer/bronze/dimensao/dimensao_ibge.csv\")\n",
    "except:\n",
    "    # Em caso de erro durante a leitura, envia uma notificação via Teams\n",
    "    webhook.send_teams_notification(\"Erro de leitura!\")\n"
   ]
  },
  {
   "cell_type": "code",
   "execution_count": 4,
   "id": "04d6f55f",
   "metadata": {},
   "outputs": [
    {
     "name": "stdout",
     "output_type": "stream",
     "text": [
      "+--------+--------------------+--------------------+--------------------+--------------------+---------+--------------------+--------------------+--------------------+--------------------+\n",
      "|cod_ibge|          municipios|              cod_ra|  reg_administrativa|  reg_metropolitanas|cod_ibge6|             pop2020|       porte_pop2020|             cod_drs|                 drs|\n",
      "+--------+--------------------+--------------------+--------------------+--------------------+---------+--------------------+--------------------+--------------------+--------------------+\n",
      "| 3500000|Estado sem especi...|Estado sem especi...|Estado sem especi...|Estado sem especi...|   350000|Estado sem especi...|Estado sem especi...|Estado sem especi...|Estado sem especi...|\n",
      "| 3500105|          Adamantina|                 691|RA de Presidente ...|   Demais municípios|   350010|               33894|Mais de 20 mil at...|                   5|             Marília|\n",
      "| 3500204|              Adolfo|                 689|RA de São José do...|RM São José do Ri...|   350020|                3447|           Até 5 mil|                  15|São José do Rio P...|\n",
      "| 3500303|               Aguaí|                 686|      RA de Campinas|   Demais municípios|   350030|               35608|Mais de 20 mil at...|                  14|São João da Boa V...|\n",
      "| 3500402|      Águas da Prata|                 686|      RA de Campinas|   Demais municípios|   350040|                7797|Mais de 5 mil até...|                  14|São João da Boa V...|\n",
      "| 3500501|    Águas de Lindóia|                 686|      RA de Campinas|   Demais municípios|   350050|               18374|Mais de 10 mil at...|                   3|            Campinas|\n",
      "| 3500550|Águas de Santa Bá...|                 685|      RA de Sorocaba|   Demais municípios|   350055|                5931|Mais de 5 mil até...|                  12|               Bauru|\n",
      "| 3500600|  Águas de São Pedro|                 686|      RA de Campinas|    RM de Piracicaba|   350060|                3122|           Até 5 mil|                  11|          Piracicaba|\n",
      "| 3500709|              Agudos|                 688|         RA de Bauru|   Demais municípios|   350070|               36134|Mais de 20 mil at...|                  12|               Bauru|\n",
      "| 3500758|            Alambari|                 685|      RA de Sorocaba|      RM de Sorocaba|   350075|                5779|Mais de 5 mil até...|                   6|            Sorocaba|\n",
      "| 3500808|   Alfredo Marcondes|                 691|RA de Presidente ...|   Demais municípios|   350080|                3927|           Até 5 mil|                   2| Presidente Prudente|\n",
      "| 3500907|              Altair|                 694|      RA de Barretos|   Demais municípios|   350090|                4036|           Até 5 mil|                  16|            Barretos|\n",
      "| 3501004|         Altinópolis|                 687|RA de Ribeirão Preto|RM de Ribeirao Preto|   350100|               15553|Mais de 10 mil at...|                   1|      Ribeirão Preto|\n",
      "| 3501103|         Alto Alegre|                 690|     RA de Araçatuba|   Demais municípios|   350110|                4017|           Até 5 mil|                   7|           Araçatuba|\n",
      "| 3501152|            Alumínio|                 685|      RA de Sorocaba|      RM de Sorocaba|   350115|               17972|Mais de 10 mil at...|                   6|            Sorocaba|\n",
      "| 3501202|    Álvares Florence|                 689|RA de São José do...|   Demais municípios|   350120|                3621|           Até 5 mil|                  15|São José do Rio P...|\n",
      "| 3501301|     Álvares Machado|                 691|RA de Presidente ...|   Demais municípios|   350130|               23789|Mais de 20 mil at...|                   2| Presidente Prudente|\n",
      "| 3501400|  Álvaro de Carvalho|                 692|       RA de Marília|   Demais municípios|   350140|                5044|Mais de 5 mil até...|                   5|             Marília|\n",
      "| 3501509|         Alvinlândia|                 692|       RA de Marília|   Demais municípios|   350150|                3176|           Até 5 mil|                   5|             Marília|\n",
      "| 3501608|           Americana|                 686|      RA de Campinas|      RM de Campinas|   350160|              233458|Mais de 200 mil a...|                   3|            Campinas|\n",
      "+--------+--------------------+--------------------+--------------------+--------------------+---------+--------------------+--------------------+--------------------+--------------------+\n",
      "only showing top 20 rows\n",
      "\n"
     ]
    }
   ],
   "source": [
    "df.show()"
   ]
  },
  {
   "cell_type": "code",
   "execution_count": 5,
   "id": "ecb37052",
   "metadata": {},
   "outputs": [],
   "source": [
    "# Instancia a classe de utilitários de qualidade de dados com o DataFrame original\n",
    "dq = DataQualityUtils(df)\n",
    "\n",
    "# Encadeia as transformações de qualidade de dados no DataFrame\n",
    "df_tratado = (\n",
    "    dq.remove_espacos_em_colunas()  # Remove espaços extras dos nomes das colunas\n",
    "      .trim_strings()  # Remove espaços em branco no início e fim das strings de todas as colunas\n",
    "      #.remover_caracteres_especiais(['localidades'])  # (Comentado) Remove caracteres especiais da coluna 'localidades'\n",
    "      .remover_duplicatas()  # Remove registros duplicados do DataFrame\n",
    "      .get_df()  # Retorna o DataFrame tratado\n",
    ")\n"
   ]
  },
  {
   "cell_type": "code",
   "execution_count": 6,
   "id": "7150420f",
   "metadata": {},
   "outputs": [
    {
     "name": "stdout",
     "output_type": "stream",
     "text": [
      "+--------+--------------------+------+--------------------+--------------------+---------+-------+--------------------+-------+--------------------+\n",
      "|cod_ibge|          municipios|cod_ra|  reg_administrativa|  reg_metropolitanas|cod_ibge6|pop2020|       porte_pop2020|cod_drs|                 drs|\n",
      "+--------+--------------------+------+--------------------+--------------------+---------+-------+--------------------+-------+--------------------+\n",
      "| 3512704|          Corumbataí|   686|      RA de Campinas|    RM de Piracicaba|   351270|   3962|           Até 5 mil|     11|          Piracicaba|\n",
      "| 3538204|         Pinhalzinho|   686|      RA de Campinas|   Demais municípios|   353820|  14755|Mais de 10 mil at...|      3|            Campinas|\n",
      "| 3549409|São Joaquim da Barra|   695|        RA de Franca|   Demais municípios|   354940|  50274|Mais de 50 mil at...|      4|              Franca|\n",
      "| 3528205|           Macedônia|   689|RA de São José do...|   Demais municípios|   352820|   3574|           Até 5 mil|     15|São José do Rio P...|\n",
      "| 3501905|              Amparo|   686|      RA de Campinas|   Demais municípios|   350190|  69639|Mais de 50 mil at...|      3|            Campinas|\n",
      "| 3527702|           Luiziânia|   690|     RA de Araçatuba|   Demais municípios|   352770|   5754|Mais de 5 mil até...|      7|           Araçatuba|\n",
      "| 3550803|São Sebastião da ...|   686|      RA de Campinas|   Demais municípios|   355080|  11936|Mais de 10 mil at...|     14|São João da Boa V...|\n",
      "| 3556008|              Urupês|   689|RA de São José do...|RM São José do Ri...|   355600|  13164|Mais de 10 mil at...|     15|São José do Rio P...|\n",
      "| 3556453|Vargem Grande Pau...|   681|    RM  de São Paulo|     RM de Sao Paulo|   355645|  52762|Mais de 50 mil at...|     10|    Grande São Paulo|\n",
      "| 3525607|        João Ramalho|   692|       RA de Marília|   Demais municípios|   352560|   4384|           Até 5 mil|      2| Presidente Prudente|\n",
      "| 3537701|             Piacatu|   690|     RA de Araçatuba|   Demais municípios|   353770|   5891|Mais de 5 mil até...|      7|           Araçatuba|\n",
      "| 3555109|       Tupi Paulista|   691|RA de Presidente ...|   Demais municípios|   355510|  14878|Mais de 10 mil at...|      2| Presidente Prudente|\n",
      "| 3520608|             Indiana|   691|RA de Presidente ...|   Demais municípios|   352060|   4775|           Até 5 mil|      2| Presidente Prudente|\n",
      "| 3522109|            Itanhaém|   683|        RA de Santos|RM da Baixada San...|   352210|  98757|Mais de 50 mil at...|     13|    Baixada Santista|\n",
      "| 3524303|         Jaboticabal|   687|RA de Ribeirão Preto|RM de Ribeirao Preto|   352430|  74221|Mais de 50 mil at...|      1|      Ribeirão Preto|\n",
      "| 3526605|           Lavrinhas|   684|RA de São José do...|RM do Vale do Par...|   352660|   7167|Mais de 5 mil até...|     17|             Taubaté|\n",
      "| 3529658|           Mesópolis|   689|RA de São José do...|   Demais municípios|   352965|   1893|           Até 5 mil|     15|São José do Rio P...|\n",
      "| 3500808|   Alfredo Marcondes|   691|RA de Presidente ...|   Demais municípios|   350080|   3927|           Até 5 mil|      2| Presidente Prudente|\n",
      "| 3513603|               Cunha|   684|RA de São José do...|RM do Vale do Par...|   351360|  21681|Mais de 20 mil at...|     17|             Taubaté|\n",
      "| 3518404|       Guaratinguetá|   684|RA de São José do...|RM do Vale do Par...|   351840| 118345|Mais de 100 mil a...|     17|             Taubaté|\n",
      "+--------+--------------------+------+--------------------+--------------------+---------+-------+--------------------+-------+--------------------+\n",
      "only showing top 20 rows\n",
      "\n"
     ]
    }
   ],
   "source": [
    "df_tratado.show()"
   ]
  },
  {
   "cell_type": "code",
   "execution_count": 7,
   "id": "7b6469f8",
   "metadata": {},
   "outputs": [],
   "source": [
    "try:\n",
    "    # Cria uma instância da classe responsável por exportar em formato Parquet\n",
    "    exporter = ParquetExport()\n",
    "\n",
    "    # Exporta o DataFrame para o caminho local especificado\n",
    "    exporter.export(df_tratado, \"../../../layer/prata/dimensao/dimensao_ibge/\", destination=\"local\")\n",
    "except:\n",
    "    # Em caso de erro durante a exportação, envia uma notificação via Teams\n",
    "    webhook.send_teams_notification(\"Erro de escrita!\")\n"
   ]
  }
 ],
 "metadata": {
  "kernelspec": {
   "display_name": ".venv",
   "language": "python",
   "name": "python3"
  },
  "language_info": {
   "codemirror_mode": {
    "name": "ipython",
    "version": 3
   },
   "file_extension": ".py",
   "mimetype": "text/x-python",
   "name": "python",
   "nbconvert_exporter": "python",
   "pygments_lexer": "ipython3",
   "version": "3.12.3"
  }
 },
 "nbformat": 4,
 "nbformat_minor": 5
}
