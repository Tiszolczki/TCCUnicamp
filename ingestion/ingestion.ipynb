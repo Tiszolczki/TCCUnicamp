{
 "cells": [
  {
   "cell_type": "code",
   "execution_count": 2,
   "metadata": {},
   "outputs": [],
   "source": [
    "from abc import ABC, abstractmethod\n",
    "from pyspark.sql import SparkSession\n",
    "\n",
    "spark = SparkSession.builder.getOrCreate()"
   ]
  },
  {
   "cell_type": "code",
   "execution_count": null,
   "metadata": {},
   "outputs": [],
   "source": [
    "from abc import ABC, abstractmethod\n",
    "from pyspark.sql import SparkSession\n",
    "\n",
    "spark = SparkSession.builder.appName(\"Data Ingestion via Factory\").getOrCreate()\n",
    "\n",
    "# Interface de Produto\n",
    "class DataIngestion(ABC):\n",
    "    @abstractmethod\n",
    "    def ingest(self, source):\n",
    "        pass\n",
    "\n",
    "# Produto Concreto para CSV\n",
    "class CSVIngestion(DataIngestion):\n",
    "    def __init__(self, line_delimiter=\"\\n\"):\n",
    "        self.line_delimiter = line_delimiter\n",
    "\n",
    "    def ingest(self, source):\n",
    "        return (\n",
    "            spark.read\n",
    "            .option(\"header\", \"true\")\n",
    "            .option(\"delimiter\", self.line_delimiter)\n",
    "            .csv(source)\n",
    "        )\n",
    "\n",
    "# Produto Concreto para Parquet\n",
    "class ParquetIngestion(DataIngestion):\n",
    "    def ingest(self, source):\n",
    "        return spark.read.parquet(source)\n",
    "\n",
    "# Creator Base\n",
    "class ReadData(ABC):\n",
    "    @abstractmethod\n",
    "    def factory_method(self) -> DataIngestion:\n",
    "        pass\n",
    "\n",
    "    def run_ingestion(self, source):\n",
    "        ingestion = self.factory_method()\n",
    "        df = ingestion.ingest(source)\n",
    "        return df\n",
    "\n",
    "# Creator Concreto para CSV\n",
    "class CSVReader(ReadData):\n",
    "    def __init__(self, line_delimiter=\"\\n\"):\n",
    "        self.line_delimiter = line_delimiter\n",
    "\n",
    "    def factory_method(self) -> DataIngestion:\n",
    "        return CSVIngestion(self.line_delimiter)\n",
    "\n",
    "# Creator Concreto para Parquet\n",
    "class ParquetReader(ReadData):\n",
    "    def factory_method(self) -> DataIngestion:\n",
    "        return ParquetIngestion()\n",
    "\n",
    "# Código do cliente\n",
    "def client_code(reader: ReadData, source: str):\n",
    "    df = reader.run_ingestion(source)\n",
    "    return df\n"
   ]
  }
 ],
 "metadata": {
  "kernelspec": {
   "display_name": ".venv",
   "language": "python",
   "name": "python3"
  },
  "language_info": {
   "codemirror_mode": {
    "name": "ipython",
    "version": 3
   },
   "file_extension": ".py",
   "mimetype": "text/x-python",
   "name": "python",
   "nbconvert_exporter": "python",
   "pygments_lexer": "ipython3",
   "version": "3.12.3"
  }
 },
 "nbformat": 4,
 "nbformat_minor": 2
}
