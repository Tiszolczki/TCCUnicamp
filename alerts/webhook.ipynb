{
 "cells": [
  {
   "cell_type": "code",
   "execution_count": null,
   "id": "e4660ac5",
   "metadata": {},
   "outputs": [],
   "source": [
    "import json\n",
    "import requests\n",
    "import os\n",
    "\n",
    "class WebhookTeams:\n",
    "    _instance = None\n",
    "\n",
    "    def __new__(cls, config_path):\n",
    "        if cls._instance is not None:\n",
    "            raise Exception(\"This class is a singleton!\")\n",
    "        else:\n",
    "            cls._instance = super(WebhookTeams, cls).__new__(cls)\n",
    "            cls._instance.load_config(config_path)\n",
    "        return cls._instance\n",
    "\n",
    "    def load_config(self, config_path):\n",
    "        if not os.path.exists(config_path):\n",
    "            raise FileNotFoundError(f\"Arquivo de configuração não encontrado: {config_path}\")\n",
    "\n",
    "        with open(config_path, \"r\") as file:\n",
    "            config = json.load(file)\n",
    "\n",
    "        self.webhook_url = config.get(\"webhook_url\")\n",
    "        if not self.webhook_url:\n",
    "            raise ValueError(\"A chave 'webhook_url' não foi encontrada no arquivo de configuração.\")\n",
    "\n",
    "    def get_storage_key(self):\n",
    "        return self.webhook_url\n",
    "\n",
    "    def prepare_payload(self, message):\n",
    "        return {\n",
    "            'text': f\"{message}\"\n",
    "        }\n",
    "\n",
    "    def prepare_headers(self):\n",
    "        return {\n",
    "            'Content-Type': 'application/json'\n",
    "        }\n",
    "\n",
    "    def send_teams_notification(self, message,):\n",
    "        webhook_url = self.get_storage_key()\n",
    "\n",
    "        payload = self.prepare_payload(message)\n",
    "        headers = self.prepare_headers()\n",
    "\n",
    "        response = requests.post(webhook_url, data=json.dumps(payload), headers=headers)\n",
    "\n",
    "        return response.status_code, response.text\n"
   ]
  }
 ],
 "metadata": {
  "language_info": {
   "name": "python"
  }
 },
 "nbformat": 4,
 "nbformat_minor": 5
}
